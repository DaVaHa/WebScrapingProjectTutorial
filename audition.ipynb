{
 "cells": [
  {
   "cell_type": "markdown",
   "metadata": {
    "collapsed": true
   },
   "source": [
    "Welcome to your DataCamp Project audition! This notebook must be filled out and vetted before a contract can be signed and you can start creating your Project.\n",
    "\n",
    "The first step is forking the repository in which this notebook lives. After that, there are three parts to be completed in this notebook:\n",
    "\n",
    "- **Project information**:  The title of the Project, a Project description, etc.\n",
    "\n",
    "- **Project introduction**: The three first text and code cells that will form the introduction of your Project.\n",
    "\n",
    "- **Rough draft of code for rest of Project:** a rough draft of the remaining code for the rest of your Project (no accompanying text cells required).\n",
    "\n",
    "When complete, please email the link to your forked repo to projects@datacamp.com with the email subject line _DataCamp Project audition_. If you have any questions, please reach out to projects@datacamp.com."
   ]
  },
  {
   "cell_type": "markdown",
   "metadata": {},
   "source": [
    "# Project information"
   ]
  },
  {
   "cell_type": "markdown",
   "metadata": {},
   "source": [
    "**Project title**: Do expensive wines taste better?\n",
    "\n",
    "**Name:** Daniel Van Hasselt\n",
    "\n",
    "**Email address associated with your DataCamp account:** danielvanhasselt@hotmail.com\n",
    "\n",
    "**Project description**: This will be read by the students on the DataCamp platform **before** deciding to start the Project. The description should be three paragraphs, written in Markdown.\n",
    "\n",
    "- Paragraph 1 should be an exciting introduction to analysis/model/etc. students will complete.\n",
    "- Paragraph 2 should list the background knowledge you assume the student doing this Project will have, the more specific the better. Please list things like modules, tools, functions, methods, statistical concepts, etc.\n",
    "- Paragraph 3 should describe and link to (if possible) the dataset used in the Project."
   ]
  },
  {
   "cell_type": "markdown",
   "metadata": {},
   "source": [
    "# Project introduction\n",
    "\n",
    "***Note: nothing needs to be filled out in this cell. It is simply setting up the template cells below.***\n",
    "\n",
    "The final output of a DataCamp Project looks like a blog post: pairs of text and code cells that tell a story about data. The text is written from the perspective of the data analyst and *not* from the perspective of an instructor on DataCamp. So, for this blog post intro, all you need to do is pretend like you're writing a blog post -- forget the part about instructors and students.\n",
    "\n",
    "Below you'll see the structure of a DataCamp Project: a series of \"tasks\" where each task consists of a title, a **single** text cell, and a **single** code cell. There are 8-12 tasks in a Project and each task can have up to 10 lines of code. What you need to do:\n",
    "1. Read through the template structure.\n",
    "2. As best you can, divide your Project as it is currently visualized in your mind into tasks.\n",
    "3. Fill out the template structure for the first three tasks of your Project.\n",
    "\n",
    "As you are completing each task, you may wish to consult the Project notebook format in our [documentation](https://instructor-support.datacamp.com/projects/datacamp-projects-jupyter-notebook). Only the `@context` and `@solution` cells are relevant to this audition."
   ]
  },
  {
   "cell_type": "markdown",
   "metadata": {},
   "source": [
    "## 1. Title of the first task  (<= 55 chars) (sentence case)"
   ]
  },
  {
   "cell_type": "markdown",
   "metadata": {},
   "source": [
    "An exciting intro to the analysis. Provide context on the problem you're going to solve, the dataset(s) you're going to use, the relevant industry, etc. You may wish to briefly introduce the techniques you're going to use. Tell a story to get students excited! It should at most have 1200 characters.\n",
    "\n",
    "The most common error instructors make in **context cells** is referring to the student or the Project. We want Project notebooks to appear as a blog post or a data analysis. Bad: *\"In this Project, you will...\"* Good: *\"In this notebook, we will...\"*\n",
    "\n",
    "The first task in Projects often involve loading data. Please store any data files you use in the `datasets/` folder in this repository.\n",
    "\n",
    "Images are welcome additions to every Markdown cell, but especially this first one. Make sure the images you use have a [permissive license](https://support.google.com/websearch/answer/29508?hl=en) and display them using [Markdown](https://github.com/adam-p/markdown-here/wiki/Markdown-Cheatsheet#images). Store your images in the `img/` folder in this repository."
   ]
  },
  {
   "cell_type": "code",
   "execution_count": 304,
   "metadata": {},
   "outputs": [],
   "source": [
    "# Import Scrapy\n",
    "import scrapy\n",
    "\n",
    "# Create Spider object\n",
    "class WineMag(scrapy.Spider):\n",
    "    \n",
    "    # Name Spider\n",
    "    name = 'winemag'\n",
    "    \n",
    "    def start_requests(self):\n",
    "        pass\n",
    "    \n",
    "    def parse_overview(self, response):\n",
    "        pass\n",
    "    \n",
    "    def parse_detail(self, response):\n",
    "        pass\n"
   ]
  },
  {
   "cell_type": "markdown",
   "metadata": {},
   "source": [
    "## 2. Title of the second task (<= 55 chars)  (sentence case)"
   ]
  },
  {
   "cell_type": "markdown",
   "metadata": {},
   "source": [
    "Context / background / story / etc. This cell should at most have 800 characters.\n",
    "\n",
    "The most common error instructors make in **context cells** is referring to the student or the Project. We want Project notebooks to appear as a blog post or a data analysis. Bad: *\"In this task, you will...\"* Good: *\"Next, we will...\"*"
   ]
  },
  {
   "cell_type": "code",
   "execution_count": 312,
   "metadata": {},
   "outputs": [],
   "source": [
    "# Define start_requests method\n",
    "def start_requests(self):\n",
    "    \n",
    "    # URL\n",
    "    base_url = \"https://www.winemag.com/?s=&drink_type=wine&pub_date_web={}&page=\"\n",
    "    \n",
    "    # list of URLs by year : 2015 - 2019\n",
    "    urls = [base_url.format(str(2019-i)) for i in range(5)]\n",
    "    \n",
    "    # Loop over URLs\n",
    "    for url in urls:\n",
    "        # Scrape first 10 pages per year\n",
    "        for i in range(1,11):\n",
    "            # Yield URL in Scrapy Request method\n",
    "            yield scrapy.Request( url = url + str(i), callback = self.parse_overview)\n",
    "\n",
    "            \n",
    "# Define parse_overview method (next step)\n",
    "def parse_overview(self, response):\n",
    "    pass\n",
    "    \n"
   ]
  },
  {
   "cell_type": "markdown",
   "metadata": {},
   "source": [
    "## 3. Title of the third task (<= 55 chars)  (sentence case)"
   ]
  },
  {
   "cell_type": "markdown",
   "metadata": {},
   "source": [
    "Context / background / story / etc. This cell should at most have 800 characters.\n",
    "\n",
    "The most common error instructors make in **context cells** is referring to the student or the Project. We want Project notebooks to appear as a blog post or a data analysis. Bad: *\"In this task, you will...\"* Good: *\"Next, we will...\"*"
   ]
  },
  {
   "cell_type": "code",
   "execution_count": 313,
   "metadata": {},
   "outputs": [],
   "source": [
    "# Define parse_overview method\n",
    "def parse_overview(self, response):\n",
    "\n",
    "    # Get all wines from overview page\n",
    "    wines = response.xpath('//li[contains(@class,\"review-item\")]')\n",
    "    \n",
    "    # Extract name of wine\n",
    "    name = wines.xpath('.//div[contains(@class,\"title\")]/text()').extract()\n",
    "    \n",
    "    # Extract rating\n",
    "    ratings = wines.xpath('.//div[contains(@class,\"info\")]/span[contains(@class,\"rating\")]//text()').extract()\n",
    "    \n",
    "    # Remove string 'Points' so list only contains rating values\n",
    "    rating = [r for r in ratings if 'POINTS' not in r.upper()]\n",
    "    \n",
    "    # Extract price\n",
    "    price = wines.xpath('.//span[contains(@class,\"price\")]/text()').extract()\n",
    "    \n",
    "    # Extract link to details page\n",
    "    links = wines.xpath('./a[contains(@class,\"review-listing\")]/@href').extract()\n",
    "    \n",
    "    # Follow URL for details\n",
    "    for link in links:\n",
    "        yield response.follow(url = link, callback = self.parse_detail)\n",
    "\n",
    "        "
   ]
  },
  {
   "cell_type": "markdown",
   "metadata": {},
   "source": [
    "## 4. Title of the third task (<= 55 chars)  (sentence case)"
   ]
  },
  {
   "cell_type": "markdown",
   "metadata": {},
   "source": [
    "Please include a rough draft of the code for the rest of your proposed Project below. Use as many code cells as you'd like. No accompanying text (i.e. context) cells required."
   ]
  },
  {
   "cell_type": "code",
   "execution_count": null,
   "metadata": {},
   "outputs": [],
   "source": [
    "# Define parse_overview method\n",
    "def parse_detail(self, response):\n",
    "    \n",
    "    # Get URL of response object\n",
    "    url = response.url\n",
    "    \n",
    "    # Extract detail info\n",
    "    details = response.xpath('//ul[@class=\"secondary-info\"]')\n",
    "    \n",
    "    # Extract labels and values\n",
    "    labels = details.xpath('.//div[@class=\"info-label small-7 columns\"]//text()')\n",
    "    values = details.xpath('.//div[@class=\"info small-9 columns\"]//text()')\n",
    "    \n",
    "    # Zip labels and values\n",
    "    data = dict(zip([l.extract().strip() for l in labels],[v.extract().strip() for v in values]))\n",
    "\n",
    "    \n",
    "    alcohol, category, date = None, None, None\n",
    "\n",
    "    if \"Alcohol\" in data.keys(): alcohol = data[\"Alcohol\"]\n",
    "    if \"Category\" in data.keys(): category = data[\"Category\"]\n",
    "    if \"Date Published\" in data.keys(): date = data[\"Date Published\"]\n",
    "\n",
    "   \n",
    "    ### Data into files/dictionary?\n",
    "    \n",
    "    "
   ]
  },
  {
   "cell_type": "markdown",
   "metadata": {},
   "source": [
    "# "
   ]
  },
  {
   "cell_type": "markdown",
   "metadata": {},
   "source": [
    "# "
   ]
  },
  {
   "cell_type": "code",
   "execution_count": null,
   "metadata": {},
   "outputs": [],
   "source": []
  },
  {
   "cell_type": "code",
   "execution_count": null,
   "metadata": {},
   "outputs": [],
   "source": []
  },
  {
   "cell_type": "code",
   "execution_count": null,
   "metadata": {},
   "outputs": [],
   "source": []
  },
  {
   "cell_type": "code",
   "execution_count": null,
   "metadata": {},
   "outputs": [],
   "source": []
  },
  {
   "cell_type": "code",
   "execution_count": 284,
   "metadata": {},
   "outputs": [],
   "source": [
    "# load data\n",
    "import pandas as pd\n",
    "\n",
    "df = pd.read_csv('datasets/winemag.csv')\n"
   ]
  },
  {
   "cell_type": "code",
   "execution_count": 38,
   "metadata": {},
   "outputs": [
    {
     "name": "stdout",
     "output_type": "stream",
     "text": [
      "<class 'pandas.core.frame.DataFrame'>\n",
      "RangeIndex: 55070 entries, 0 to 55069\n",
      "Data columns (total 8 columns):\n",
      "URL           55070 non-null object\n",
      "Name          55070 non-null object\n",
      "Rating        55070 non-null int64\n",
      "Price         52129 non-null object\n",
      "Region        55070 non-null object\n",
      "Alcohol       53371 non-null object\n",
      "Color         55070 non-null object\n",
      "RatingDate    55070 non-null object\n",
      "dtypes: int64(1), object(7)\n",
      "memory usage: 3.4+ MB\n"
     ]
    }
   ],
   "source": [
    "df.info()"
   ]
  },
  {
   "cell_type": "code",
   "execution_count": 217,
   "metadata": {},
   "outputs": [],
   "source": [
    "# drop incomplete data\n",
    "df.dropna(inplace=True)\n"
   ]
  },
  {
   "cell_type": "code",
   "execution_count": 55,
   "metadata": {},
   "outputs": [
    {
     "name": "stdout",
     "output_type": "stream",
     "text": [
      "<class 'pandas.core.frame.DataFrame'>\n",
      "Int64Index: 51326 entries, 0 to 55069\n",
      "Data columns (total 8 columns):\n",
      "URL           51326 non-null object\n",
      "Name          51326 non-null object\n",
      "Rating        51326 non-null int64\n",
      "Price         51326 non-null object\n",
      "Region        51326 non-null object\n",
      "Alcohol       51326 non-null object\n",
      "Color         51326 non-null object\n",
      "RatingDate    51326 non-null object\n",
      "dtypes: int64(1), object(7)\n",
      "memory usage: 3.5+ MB\n"
     ]
    }
   ],
   "source": [
    "df.info()"
   ]
  },
  {
   "cell_type": "code",
   "execution_count": 176,
   "metadata": {},
   "outputs": [
    {
     "data": {
      "text/html": [
       "<div>\n",
       "<style scoped>\n",
       "    .dataframe tbody tr th:only-of-type {\n",
       "        vertical-align: middle;\n",
       "    }\n",
       "\n",
       "    .dataframe tbody tr th {\n",
       "        vertical-align: top;\n",
       "    }\n",
       "\n",
       "    .dataframe thead th {\n",
       "        text-align: right;\n",
       "    }\n",
       "</style>\n",
       "<table border=\"1\" class=\"dataframe\">\n",
       "  <thead>\n",
       "    <tr style=\"text-align: right;\">\n",
       "      <th></th>\n",
       "      <th>URL</th>\n",
       "      <th>Name</th>\n",
       "      <th>Rating</th>\n",
       "      <th>Price</th>\n",
       "      <th>Region</th>\n",
       "      <th>Alcohol</th>\n",
       "      <th>Color</th>\n",
       "      <th>RatingDate</th>\n",
       "    </tr>\n",
       "  </thead>\n",
       "  <tbody>\n",
       "    <tr>\n",
       "      <th>0</th>\n",
       "      <td>https://www.winemag.com/buying-guide/100-perce...</td>\n",
       "      <td>100 Percent Wine 2015 Moscato (California)</td>\n",
       "      <td>86</td>\n",
       "      <td>$18</td>\n",
       "      <td>California Other</td>\n",
       "      <td>12.2%</td>\n",
       "      <td>White</td>\n",
       "      <td>2/1/2017</td>\n",
       "    </tr>\n",
       "    <tr>\n",
       "      <th>1</th>\n",
       "      <td>https://www.winemag.com/buying-guide/1000-stor...</td>\n",
       "      <td>1000 Stories 2014 Bourbon Barrel Aged Batch No...</td>\n",
       "      <td>90</td>\n",
       "      <td>$19</td>\n",
       "      <td>California Other</td>\n",
       "      <td>15.6%</td>\n",
       "      <td>Red</td>\n",
       "      <td>7/1/2017</td>\n",
       "    </tr>\n",
       "    <tr>\n",
       "      <th>2</th>\n",
       "      <td>https://www.winemag.com/buying-guide/113-nv-cy...</td>\n",
       "      <td>1+1=3 NV Cygnus Brut Made With Organic Grapes ...</td>\n",
       "      <td>89</td>\n",
       "      <td>$18</td>\n",
       "      <td>Catalonia</td>\n",
       "      <td>11.5%</td>\n",
       "      <td>Sparkling</td>\n",
       "      <td>11/1/2017</td>\n",
       "    </tr>\n",
       "    <tr>\n",
       "      <th>3</th>\n",
       "      <td>https://www.winemag.com/buying-guide/113-nv-cy...</td>\n",
       "      <td>1+1=3 NV Cygnus Brut Nature Reserva Made With ...</td>\n",
       "      <td>89</td>\n",
       "      <td>$20</td>\n",
       "      <td>Catalonia</td>\n",
       "      <td>11.5%</td>\n",
       "      <td>Sparkling</td>\n",
       "      <td>9/1/2017</td>\n",
       "    </tr>\n",
       "    <tr>\n",
       "      <th>4</th>\n",
       "      <td>https://www.winemag.com/buying-guide/113-nv-me...</td>\n",
       "      <td>1+1=3 NV Mètode Tradicional Brut Sparkling (Cava)</td>\n",
       "      <td>88</td>\n",
       "      <td>$17</td>\n",
       "      <td>Catalonia</td>\n",
       "      <td>11.5%</td>\n",
       "      <td>Sparkling</td>\n",
       "      <td>4/1/2018</td>\n",
       "    </tr>\n",
       "  </tbody>\n",
       "</table>\n",
       "</div>"
      ],
      "text/plain": [
       "                                                 URL  \\\n",
       "0  https://www.winemag.com/buying-guide/100-perce...   \n",
       "1  https://www.winemag.com/buying-guide/1000-stor...   \n",
       "2  https://www.winemag.com/buying-guide/113-nv-cy...   \n",
       "3  https://www.winemag.com/buying-guide/113-nv-cy...   \n",
       "4  https://www.winemag.com/buying-guide/113-nv-me...   \n",
       "\n",
       "                                                Name  Rating Price  \\\n",
       "0         100 Percent Wine 2015 Moscato (California)      86   $18   \n",
       "1  1000 Stories 2014 Bourbon Barrel Aged Batch No...      90   $19   \n",
       "2  1+1=3 NV Cygnus Brut Made With Organic Grapes ...      89   $18   \n",
       "3  1+1=3 NV Cygnus Brut Nature Reserva Made With ...      89   $20   \n",
       "4  1+1=3 NV Mètode Tradicional Brut Sparkling (Cava)      88   $17   \n",
       "\n",
       "             Region Alcohol      Color RatingDate  \n",
       "0  California Other   12.2%      White   2/1/2017  \n",
       "1  California Other   15.6%        Red   7/1/2017  \n",
       "2         Catalonia   11.5%  Sparkling  11/1/2017  \n",
       "3         Catalonia   11.5%  Sparkling   9/1/2017  \n",
       "4         Catalonia   11.5%  Sparkling   4/1/2018  "
      ]
     },
     "execution_count": 176,
     "metadata": {},
     "output_type": "execute_result"
    }
   ],
   "source": [
    "df.head()"
   ]
  },
  {
   "cell_type": "code",
   "execution_count": 285,
   "metadata": {},
   "outputs": [],
   "source": [
    "# Transform price column\n",
    "df[\"Price\"] = df[\"Price\"].apply(lambda x : round(float(str(x).replace(\"$\",\"\").strip()),0))\n"
   ]
  },
  {
   "cell_type": "code",
   "execution_count": 286,
   "metadata": {},
   "outputs": [],
   "source": [
    "# Transform price column\n",
    "df[\"Alcohol\"] = df[\"Alcohol\"].apply(lambda x : round(float(str(x).replace(\"%\",\"\").strip()),1))\n"
   ]
  },
  {
   "cell_type": "code",
   "execution_count": 287,
   "metadata": {},
   "outputs": [],
   "source": [
    "# Bin by price of $10\n",
    "#df[\"Bin\"] = df[\"Price\"].apply(lambda x : round(x/,-1))\n",
    "\n",
    "# Bin by price of $5\n",
    "df[\"Bin\"] = df[\"Price\"].apply(lambda x : round(x/5,0)*5 )\n",
    "\n"
   ]
  },
  {
   "cell_type": "code",
   "execution_count": 221,
   "metadata": {
    "scrolled": true
   },
   "outputs": [
    {
     "name": "stdout",
     "output_type": "stream",
     "text": [
      "<class 'pandas.core.frame.DataFrame'>\n",
      "Int64Index: 51326 entries, 0 to 55069\n",
      "Data columns (total 9 columns):\n",
      "URL           51326 non-null object\n",
      "Name          51326 non-null object\n",
      "Rating        51326 non-null int64\n",
      "Price         51326 non-null float64\n",
      "Region        51326 non-null object\n",
      "Alcohol       51326 non-null float64\n",
      "Color         51326 non-null object\n",
      "RatingDate    51326 non-null object\n",
      "Bin           51326 non-null float64\n",
      "dtypes: float64(3), int64(1), object(5)\n",
      "memory usage: 3.9+ MB\n"
     ]
    }
   ],
   "source": [
    "# Check dataframe info\n",
    "df.info()\n"
   ]
  },
  {
   "cell_type": "code",
   "execution_count": 212,
   "metadata": {},
   "outputs": [
    {
     "data": {
      "text/html": [
       "<div>\n",
       "<style scoped>\n",
       "    .dataframe tbody tr th:only-of-type {\n",
       "        vertical-align: middle;\n",
       "    }\n",
       "\n",
       "    .dataframe tbody tr th {\n",
       "        vertical-align: top;\n",
       "    }\n",
       "\n",
       "    .dataframe thead th {\n",
       "        text-align: right;\n",
       "    }\n",
       "</style>\n",
       "<table border=\"1\" class=\"dataframe\">\n",
       "  <thead>\n",
       "    <tr style=\"text-align: right;\">\n",
       "      <th></th>\n",
       "      <th>Rating</th>\n",
       "      <th>Price</th>\n",
       "      <th>Alcohol</th>\n",
       "      <th>Bin</th>\n",
       "    </tr>\n",
       "  </thead>\n",
       "  <tbody>\n",
       "    <tr>\n",
       "      <th>count</th>\n",
       "      <td>50333.000000</td>\n",
       "      <td>50333.000000</td>\n",
       "      <td>49543.000000</td>\n",
       "      <td>50333.000000</td>\n",
       "    </tr>\n",
       "    <tr>\n",
       "      <th>mean</th>\n",
       "      <td>89.125544</td>\n",
       "      <td>33.512759</td>\n",
       "      <td>14.126237</td>\n",
       "      <td>33.576381</td>\n",
       "    </tr>\n",
       "    <tr>\n",
       "      <th>std</th>\n",
       "      <td>2.775042</td>\n",
       "      <td>19.870249</td>\n",
       "      <td>48.118626</td>\n",
       "      <td>19.920128</td>\n",
       "    </tr>\n",
       "    <tr>\n",
       "      <th>min</th>\n",
       "      <td>80.000000</td>\n",
       "      <td>4.000000</td>\n",
       "      <td>1.350000</td>\n",
       "      <td>5.000000</td>\n",
       "    </tr>\n",
       "    <tr>\n",
       "      <th>25%</th>\n",
       "      <td>87.000000</td>\n",
       "      <td>18.000000</td>\n",
       "      <td>13.000000</td>\n",
       "      <td>20.000000</td>\n",
       "    </tr>\n",
       "    <tr>\n",
       "      <th>50%</th>\n",
       "      <td>89.000000</td>\n",
       "      <td>28.000000</td>\n",
       "      <td>13.500000</td>\n",
       "      <td>30.000000</td>\n",
       "    </tr>\n",
       "    <tr>\n",
       "      <th>75%</th>\n",
       "      <td>91.000000</td>\n",
       "      <td>45.000000</td>\n",
       "      <td>14.300000</td>\n",
       "      <td>45.000000</td>\n",
       "    </tr>\n",
       "    <tr>\n",
       "      <th>max</th>\n",
       "      <td>100.000000</td>\n",
       "      <td>100.000000</td>\n",
       "      <td>8333.000000</td>\n",
       "      <td>100.000000</td>\n",
       "    </tr>\n",
       "  </tbody>\n",
       "</table>\n",
       "</div>"
      ],
      "text/plain": [
       "             Rating         Price       Alcohol           Bin\n",
       "count  50333.000000  50333.000000  49543.000000  50333.000000\n",
       "mean      89.125544     33.512759     14.126237     33.576381\n",
       "std        2.775042     19.870249     48.118626     19.920128\n",
       "min       80.000000      4.000000      1.350000      5.000000\n",
       "25%       87.000000     18.000000     13.000000     20.000000\n",
       "50%       89.000000     28.000000     13.500000     30.000000\n",
       "75%       91.000000     45.000000     14.300000     45.000000\n",
       "max      100.000000    100.000000   8333.000000    100.000000"
      ]
     },
     "execution_count": 212,
     "metadata": {},
     "output_type": "execute_result"
    }
   ],
   "source": [
    "df.describe()"
   ]
  },
  {
   "cell_type": "code",
   "execution_count": 288,
   "metadata": {},
   "outputs": [
    {
     "data": {
      "text/html": [
       "<div>\n",
       "<style scoped>\n",
       "    .dataframe tbody tr th:only-of-type {\n",
       "        vertical-align: middle;\n",
       "    }\n",
       "\n",
       "    .dataframe tbody tr th {\n",
       "        vertical-align: top;\n",
       "    }\n",
       "\n",
       "    .dataframe thead th {\n",
       "        text-align: right;\n",
       "    }\n",
       "</style>\n",
       "<table border=\"1\" class=\"dataframe\">\n",
       "  <thead>\n",
       "    <tr style=\"text-align: right;\">\n",
       "      <th></th>\n",
       "      <th>Rating</th>\n",
       "    </tr>\n",
       "    <tr>\n",
       "      <th>Bin</th>\n",
       "      <th></th>\n",
       "    </tr>\n",
       "  </thead>\n",
       "  <tbody>\n",
       "    <tr>\n",
       "      <th>5.0</th>\n",
       "      <td>142</td>\n",
       "    </tr>\n",
       "    <tr>\n",
       "      <th>10.0</th>\n",
       "      <td>3374</td>\n",
       "    </tr>\n",
       "    <tr>\n",
       "      <th>15.0</th>\n",
       "      <td>7413</td>\n",
       "    </tr>\n",
       "    <tr>\n",
       "      <th>20.0</th>\n",
       "      <td>7939</td>\n",
       "    </tr>\n",
       "    <tr>\n",
       "      <th>25.0</th>\n",
       "      <td>5949</td>\n",
       "    </tr>\n",
       "    <tr>\n",
       "      <th>30.0</th>\n",
       "      <td>5187</td>\n",
       "    </tr>\n",
       "    <tr>\n",
       "      <th>35.0</th>\n",
       "      <td>3346</td>\n",
       "    </tr>\n",
       "    <tr>\n",
       "      <th>40.0</th>\n",
       "      <td>3712</td>\n",
       "    </tr>\n",
       "    <tr>\n",
       "      <th>45.0</th>\n",
       "      <td>2321</td>\n",
       "    </tr>\n",
       "    <tr>\n",
       "      <th>50.0</th>\n",
       "      <td>2800</td>\n",
       "    </tr>\n",
       "    <tr>\n",
       "      <th>55.0</th>\n",
       "      <td>1353</td>\n",
       "    </tr>\n",
       "    <tr>\n",
       "      <th>60.0</th>\n",
       "      <td>1675</td>\n",
       "    </tr>\n",
       "    <tr>\n",
       "      <th>65.0</th>\n",
       "      <td>1225</td>\n",
       "    </tr>\n",
       "    <tr>\n",
       "      <th>70.0</th>\n",
       "      <td>939</td>\n",
       "    </tr>\n",
       "    <tr>\n",
       "      <th>75.0</th>\n",
       "      <td>775</td>\n",
       "    </tr>\n",
       "    <tr>\n",
       "      <th>80.0</th>\n",
       "      <td>689</td>\n",
       "    </tr>\n",
       "    <tr>\n",
       "      <th>85.0</th>\n",
       "      <td>406</td>\n",
       "    </tr>\n",
       "    <tr>\n",
       "      <th>90.0</th>\n",
       "      <td>429</td>\n",
       "    </tr>\n",
       "    <tr>\n",
       "      <th>95.0</th>\n",
       "      <td>266</td>\n",
       "    </tr>\n",
       "    <tr>\n",
       "      <th>100.0</th>\n",
       "      <td>401</td>\n",
       "    </tr>\n",
       "    <tr>\n",
       "      <th>105.0</th>\n",
       "      <td>100</td>\n",
       "    </tr>\n",
       "    <tr>\n",
       "      <th>110.0</th>\n",
       "      <td>158</td>\n",
       "    </tr>\n",
       "    <tr>\n",
       "      <th>115.0</th>\n",
       "      <td>81</td>\n",
       "    </tr>\n",
       "    <tr>\n",
       "      <th>120.0</th>\n",
       "      <td>186</td>\n",
       "    </tr>\n",
       "    <tr>\n",
       "      <th>125.0</th>\n",
       "      <td>188</td>\n",
       "    </tr>\n",
       "    <tr>\n",
       "      <th>130.0</th>\n",
       "      <td>86</td>\n",
       "    </tr>\n",
       "    <tr>\n",
       "      <th>135.0</th>\n",
       "      <td>52</td>\n",
       "    </tr>\n",
       "    <tr>\n",
       "      <th>140.0</th>\n",
       "      <td>60</td>\n",
       "    </tr>\n",
       "    <tr>\n",
       "      <th>145.0</th>\n",
       "      <td>34</td>\n",
       "    </tr>\n",
       "    <tr>\n",
       "      <th>150.0</th>\n",
       "      <td>165</td>\n",
       "    </tr>\n",
       "    <tr>\n",
       "      <th>155.0</th>\n",
       "      <td>35</td>\n",
       "    </tr>\n",
       "    <tr>\n",
       "      <th>160.0</th>\n",
       "      <td>47</td>\n",
       "    </tr>\n",
       "    <tr>\n",
       "      <th>165.0</th>\n",
       "      <td>20</td>\n",
       "    </tr>\n",
       "    <tr>\n",
       "      <th>170.0</th>\n",
       "      <td>16</td>\n",
       "    </tr>\n",
       "    <tr>\n",
       "      <th>175.0</th>\n",
       "      <td>56</td>\n",
       "    </tr>\n",
       "    <tr>\n",
       "      <th>180.0</th>\n",
       "      <td>28</td>\n",
       "    </tr>\n",
       "    <tr>\n",
       "      <th>185.0</th>\n",
       "      <td>21</td>\n",
       "    </tr>\n",
       "    <tr>\n",
       "      <th>190.0</th>\n",
       "      <td>15</td>\n",
       "    </tr>\n",
       "    <tr>\n",
       "      <th>195.0</th>\n",
       "      <td>19</td>\n",
       "    </tr>\n",
       "    <tr>\n",
       "      <th>200.0</th>\n",
       "      <td>56</td>\n",
       "    </tr>\n",
       "    <tr>\n",
       "      <th>205.0</th>\n",
       "      <td>2</td>\n",
       "    </tr>\n",
       "    <tr>\n",
       "      <th>210.0</th>\n",
       "      <td>13</td>\n",
       "    </tr>\n",
       "    <tr>\n",
       "      <th>215.0</th>\n",
       "      <td>9</td>\n",
       "    </tr>\n",
       "    <tr>\n",
       "      <th>220.0</th>\n",
       "      <td>20</td>\n",
       "    </tr>\n",
       "    <tr>\n",
       "      <th>225.0</th>\n",
       "      <td>43</td>\n",
       "    </tr>\n",
       "    <tr>\n",
       "      <th>230.0</th>\n",
       "      <td>6</td>\n",
       "    </tr>\n",
       "    <tr>\n",
       "      <th>235.0</th>\n",
       "      <td>13</td>\n",
       "    </tr>\n",
       "    <tr>\n",
       "      <th>240.0</th>\n",
       "      <td>12</td>\n",
       "    </tr>\n",
       "    <tr>\n",
       "      <th>245.0</th>\n",
       "      <td>4</td>\n",
       "    </tr>\n",
       "    <tr>\n",
       "      <th>250.0</th>\n",
       "      <td>44</td>\n",
       "    </tr>\n",
       "  </tbody>\n",
       "</table>\n",
       "</div>"
      ],
      "text/plain": [
       "       Rating\n",
       "Bin          \n",
       "5.0       142\n",
       "10.0     3374\n",
       "15.0     7413\n",
       "20.0     7939\n",
       "25.0     5949\n",
       "30.0     5187\n",
       "35.0     3346\n",
       "40.0     3712\n",
       "45.0     2321\n",
       "50.0     2800\n",
       "55.0     1353\n",
       "60.0     1675\n",
       "65.0     1225\n",
       "70.0      939\n",
       "75.0      775\n",
       "80.0      689\n",
       "85.0      406\n",
       "90.0      429\n",
       "95.0      266\n",
       "100.0     401\n",
       "105.0     100\n",
       "110.0     158\n",
       "115.0      81\n",
       "120.0     186\n",
       "125.0     188\n",
       "130.0      86\n",
       "135.0      52\n",
       "140.0      60\n",
       "145.0      34\n",
       "150.0     165\n",
       "155.0      35\n",
       "160.0      47\n",
       "165.0      20\n",
       "170.0      16\n",
       "175.0      56\n",
       "180.0      28\n",
       "185.0      21\n",
       "190.0      15\n",
       "195.0      19\n",
       "200.0      56\n",
       "205.0       2\n",
       "210.0      13\n",
       "215.0       9\n",
       "220.0      20\n",
       "225.0      43\n",
       "230.0       6\n",
       "235.0      13\n",
       "240.0      12\n",
       "245.0       4\n",
       "250.0      44"
      ]
     },
     "execution_count": 288,
     "metadata": {},
     "output_type": "execute_result"
    }
   ],
   "source": [
    "# see counts by bin\n",
    "counts = df[[\"Bin\",\"Rating\"]].groupby('Bin').count()\n",
    "\n",
    "counts[counts.index <= 250]\n"
   ]
  },
  {
   "cell_type": "code",
   "execution_count": 293,
   "metadata": {},
   "outputs": [],
   "source": [
    "# delete all wines with prices over $1000\n",
    "df = df[(df.Price < 67.5) & (df.Price > 7.5)]\n",
    "df = df[df.Alcohol <= 50]\n",
    "\n"
   ]
  },
  {
   "cell_type": "code",
   "execution_count": 128,
   "metadata": {},
   "outputs": [
    {
     "name": "stderr",
     "output_type": "stream",
     "text": [
      "/home/daniel/.local/lib/python3.5/site-packages/scipy/stats/stats.py:1633: FutureWarning: Using a non-tuple sequence for multidimensional indexing is deprecated; use `arr[tuple(seq)]` instead of `arr[seq]`. In the future this will be interpreted as an array index, `arr[np.array(seq)]`, which will result either in an error or a different result.\n",
      "  return np.add.reduce(sorted[indexer] * weights, axis=axis) / sumval\n"
     ]
    },
    {
     "data": {
      "text/plain": [
       "<matplotlib.axes._subplots.AxesSubplot at 0x7fe6541b1160>"
      ]
     },
     "execution_count": 128,
     "metadata": {},
     "output_type": "execute_result"
    },
    {
     "data": {
      "image/png": "[encoded data removed]",
      "text/plain": [
       "<matplotlib.figure.Figure at 0x7fe6541e7358>"
      ]
     },
     "metadata": {},
     "output_type": "display_data"
    }
   ],
   "source": [
    "import seaborn as sns; sns.set()\n",
    "import matplotlib.pyplot as plt\n",
    "\n",
    "%matplotlib inline\n",
    "sns.regplot(x=\"Price\", y=\"Rating\", data=df.sample(frac=0.1))\n"
   ]
  },
  {
   "cell_type": "code",
   "execution_count": 109,
   "metadata": {},
   "outputs": [
    {
     "name": "stderr",
     "output_type": "stream",
     "text": [
      "/home/daniel/.local/lib/python3.5/site-packages/scipy/stats/stats.py:1633: FutureWarning: Using a non-tuple sequence for multidimensional indexing is deprecated; use `arr[tuple(seq)]` instead of `arr[seq]`. In the future this will be interpreted as an array index, `arr[np.array(seq)]`, which will result either in an error or a different result.\n",
      "  return np.add.reduce(sorted[indexer] * weights, axis=axis) / sumval\n"
     ]
    },
    {
     "data": {
      "text/plain": [
       "<seaborn.axisgrid.FacetGrid at 0x7fe6544dce10>"
      ]
     },
     "execution_count": 109,
     "metadata": {},
     "output_type": "execute_result"
    },
    {
     "data": {
      "image/png": "[encoded data removed]",
      "text/plain": [
       "<matplotlib.figure.Figure at 0x7fe6544dc978>"
      ]
     },
     "metadata": {},
     "output_type": "display_data"
    }
   ],
   "source": [
    "sns.lmplot(x=\"Price\", y=\"Rating\", data=df.sample(frac=0.1))"
   ]
  },
  {
   "cell_type": "code",
   "execution_count": 52,
   "metadata": {},
   "outputs": [
    {
     "name": "stderr",
     "output_type": "stream",
     "text": [
      "/home/daniel/.local/lib/python3.5/site-packages/scipy/stats/stats.py:1633: FutureWarning: Using a non-tuple sequence for multidimensional indexing is deprecated; use `arr[tuple(seq)]` instead of `arr[seq]`. In the future this will be interpreted as an array index, `arr[np.array(seq)]`, which will result either in an error or a different result.\n",
      "  return np.add.reduce(sorted[indexer] * weights, axis=axis) / sumval\n"
     ]
    },
    {
     "data": {
      "text/plain": [
       "<seaborn.axisgrid.FacetGrid at 0x7fe656461cc0>"
      ]
     },
     "execution_count": 52,
     "metadata": {},
     "output_type": "execute_result"
    },
    {
     "data": {
      "image/png": "[encoded data removed]",
      "text/plain": [
       "<matplotlib.figure.Figure at 0x7fe65645b7b8>"
      ]
     },
     "metadata": {},
     "output_type": "display_data"
    }
   ],
   "source": [
    "sns.lmplot(x=\"Price\", y=\"Rating\", hue=\"Color\", data=df)"
   ]
  },
  {
   "cell_type": "code",
   "execution_count": 296,
   "metadata": {},
   "outputs": [
    {
     "data": {
      "text/plain": [
       "8.0      201\n",
       "9.0      322\n",
       "10.0     965\n",
       "11.0     512\n",
       "12.0    1307\n",
       "13.0    1255\n",
       "14.0    1125\n",
       "15.0    2347\n",
       "16.0    1279\n",
       "17.0    1234\n",
       "18.0    1822\n",
       "19.0    1102\n",
       "20.0    2939\n",
       "21.0     481\n",
       "22.0    1433\n",
       "23.0     727\n",
       "24.0    1114\n",
       "25.0    2733\n",
       "26.0     702\n",
       "27.0     562\n",
       "28.0    1249\n",
       "29.0     603\n",
       "30.0    2254\n",
       "31.0     120\n",
       "32.0     896\n",
       "33.0     333\n",
       "34.0     440\n",
       "35.0    1685\n",
       "36.0     621\n",
       "37.0     203\n",
       "38.0     808\n",
       "39.0     407\n",
       "40.0    1734\n",
       "41.0      73\n",
       "42.0     647\n",
       "43.0     140\n",
       "44.0     291\n",
       "45.0    1519\n",
       "46.0     217\n",
       "47.0     121\n",
       "48.0     595\n",
       "49.0     274\n",
       "50.0    1622\n",
       "51.0      37\n",
       "52.0     240\n",
       "53.0      65\n",
       "54.0     173\n",
       "55.0     907\n",
       "56.0     134\n",
       "57.0      59\n",
       "58.0     225\n",
       "59.0     109\n",
       "60.0    1159\n",
       "61.0      17\n",
       "62.0     144\n",
       "63.0      69\n",
       "64.0      68\n",
       "65.0     960\n",
       "66.0      73\n",
       "67.0      47\n",
       "Name: Price, dtype: int64"
      ]
     },
     "execution_count": 296,
     "metadata": {},
     "output_type": "execute_result"
    }
   ],
   "source": [
    "df.Price.value_counts().sort_index()"
   ]
  },
  {
   "cell_type": "code",
   "execution_count": 297,
   "metadata": {},
   "outputs": [
    {
     "data": {
      "text/plain": [
       "[<matplotlib.lines.Line2D at 0x7fe64f530978>]"
      ]
     },
     "execution_count": 297,
     "metadata": {},
     "output_type": "execute_result"
    },
    {
     "data": {
      "image/png": "[encoded data removed]",
      "text/plain": [
       "<matplotlib.figure.Figure at 0x7fe653104390>"
      ]
     },
     "metadata": {},
     "output_type": "display_data"
    }
   ],
   "source": [
    "# plot mean by region\n",
    "plt.plot(df[df.Region == 'Northwestern Italy'][[\"Bin\",\"Rating\"]].groupby('Bin').mean(), color='blue')\n",
    "plt.plot(df[df.Region == 'Northeastern Italy'][[\"Bin\",\"Rating\"]].groupby('Bin').mean(), color='black')\n",
    "plt.plot(df[df.Region == 'Central Italy'  ][[\"Bin\",\"Rating\"]].groupby('Bin').mean(), color='red')\n",
    "plt.plot(df[df.Region == 'Southern Italy' ][[\"Bin\",\"Rating\"]].groupby('Bin').mean(), color='pink')\n",
    "\n"
   ]
  },
  {
   "cell_type": "code",
   "execution_count": 298,
   "metadata": {},
   "outputs": [
    {
     "data": {
      "text/plain": [
       "[<matplotlib.lines.Line2D at 0x7fe6510e2c88>]"
      ]
     },
     "execution_count": 298,
     "metadata": {},
     "output_type": "execute_result"
    },
    {
     "data": {
      "image/png": "[encoded data removed]",
      "text/plain": [
       "<matplotlib.figure.Figure at 0x7fe651c33dd8>"
      ]
     },
     "metadata": {},
     "output_type": "display_data"
    }
   ],
   "source": [
    "# plot mean by colour\n",
    "plt.plot(df[df.Color == 'White'][[\"Bin\",\"Rating\"]].groupby('Bin').mean(), color='grey')\n",
    "plt.plot(df[df.Color == 'Red'  ][[\"Bin\",\"Rating\"]].groupby('Bin').mean(), color='red')\n",
    "plt.plot(df[df.Color == 'Rose' ][[\"Bin\",\"Rating\"]].groupby('Bin').mean(), color='pink')\n",
    "\n"
   ]
  },
  {
   "cell_type": "code",
   "execution_count": 153,
   "metadata": {},
   "outputs": [
    {
     "data": {
      "text/plain": [
       "<module 'matplotlib.colors' from '/usr/local/lib/python3.5/dist-packages/matplotlib/colors.py'>"
      ]
     },
     "execution_count": 153,
     "metadata": {},
     "output_type": "execute_result"
    }
   ],
   "source": [
    "# all editors equal?\n"
   ]
  },
  {
   "cell_type": "code",
   "execution_count": 295,
   "metadata": {},
   "outputs": [
    {
     "name": "stderr",
     "output_type": "stream",
     "text": [
      "/usr/local/lib/python3.5/dist-packages/ipykernel_launcher.py:2: UserWarning: Boolean Series key will be reindexed to match DataFrame index.\n",
      "  \n"
     ]
    },
    {
     "data": {
      "text/plain": [
       "[<matplotlib.lines.Line2D at 0x7fe650d1b0b8>]"
      ]
     },
     "execution_count": 295,
     "metadata": {},
     "output_type": "execute_result"
    },
    {
     "data": {
      "image/png": "[encoded data removed]",
      "text/plain": [
       "<matplotlib.figure.Figure at 0x7fe64f52d470>"
      ]
     },
     "metadata": {},
     "output_type": "display_data"
    }
   ],
   "source": [
    "# plot mean by bin\n",
    "plt.plot(df[df.Alcohol <= 16][df.Alcohol >= 12][[\"Rating\", \"Alcohol\"]].groupby(\"Alcohol\").mean())\n",
    "#counts.sort_values('Alchol')"
   ]
  },
  {
   "cell_type": "code",
   "execution_count": 299,
   "metadata": {},
   "outputs": [
    {
     "data": {
      "text/plain": [
       "[<matplotlib.lines.Line2D at 0x7fe6513e0eb8>]"
      ]
     },
     "execution_count": 299,
     "metadata": {},
     "output_type": "execute_result"
    },
    {
     "data": {
      "image/png": "[encoded data removed]",
      "text/plain": [
       "<matplotlib.figure.Figure at 0x7fe6518ca9b0>"
      ]
     },
     "metadata": {},
     "output_type": "display_data"
    }
   ],
   "source": [
    "#print(df[df.Price <= 100][[\"Bin\",\"Rating\"]].groupby('Bin').mean())\n",
    "\n",
    "plt.plot(df[df.Price <= 100][[\"Price\",\"Rating\"]].groupby('Price').mean())"
   ]
  },
  {
   "cell_type": "code",
   "execution_count": 303,
   "metadata": {},
   "outputs": [
    {
     "data": {
      "text/html": [
       "<div>\n",
       "<style scoped>\n",
       "    .dataframe tbody tr th:only-of-type {\n",
       "        vertical-align: middle;\n",
       "    }\n",
       "\n",
       "    .dataframe tbody tr th {\n",
       "        vertical-align: top;\n",
       "    }\n",
       "\n",
       "    .dataframe thead th {\n",
       "        text-align: right;\n",
       "    }\n",
       "</style>\n",
       "<table border=\"1\" class=\"dataframe\">\n",
       "  <thead>\n",
       "    <tr style=\"text-align: right;\">\n",
       "      <th></th>\n",
       "      <th>Rating</th>\n",
       "    </tr>\n",
       "    <tr>\n",
       "      <th>Color</th>\n",
       "      <th></th>\n",
       "    </tr>\n",
       "  </thead>\n",
       "  <tbody>\n",
       "    <tr>\n",
       "      <th>Port/Sherry</th>\n",
       "      <td>90.468927</td>\n",
       "    </tr>\n",
       "    <tr>\n",
       "      <th>Dessert</th>\n",
       "      <td>90.370474</td>\n",
       "    </tr>\n",
       "    <tr>\n",
       "      <th>Fortified</th>\n",
       "      <td>89.360000</td>\n",
       "    </tr>\n",
       "    <tr>\n",
       "      <th>Red</th>\n",
       "      <td>89.064060</td>\n",
       "    </tr>\n",
       "    <tr>\n",
       "      <th>White</th>\n",
       "      <td>88.876217</td>\n",
       "    </tr>\n",
       "    <tr>\n",
       "      <th>Sparkling</th>\n",
       "      <td>88.778714</td>\n",
       "    </tr>\n",
       "    <tr>\n",
       "      <th>Rose</th>\n",
       "      <td>87.411135</td>\n",
       "    </tr>\n",
       "  </tbody>\n",
       "</table>\n",
       "</div>"
      ],
      "text/plain": [
       "                Rating\n",
       "Color                 \n",
       "Port/Sherry  90.468927\n",
       "Dessert      90.370474\n",
       "Fortified    89.360000\n",
       "Red          89.064060\n",
       "White        88.876217\n",
       "Sparkling    88.778714\n",
       "Rose         87.411135"
      ]
     },
     "execution_count": 303,
     "metadata": {},
     "output_type": "execute_result"
    }
   ],
   "source": [
    "df[[\"Rating\",\"Color\"]].groupby(\"Color\").mean().sort_values('Rating', ascending=False)"
   ]
  },
  {
   "cell_type": "code",
   "execution_count": 256,
   "metadata": {},
   "outputs": [
    {
     "data": {
      "text/plain": [
       "Rating     89.131584\n",
       "Price      33.587757\n",
       "Alcohol    13.561561\n",
       "Bin        33.651534\n",
       "dtype: float64"
      ]
     },
     "execution_count": 256,
     "metadata": {},
     "output_type": "execute_result"
    }
   ],
   "source": [
    "df.mean()"
   ]
  }
 ],
 "metadata": {
  "kernelspec": {
   "display_name": "Python 3",
   "language": "python",
   "name": "python3"
  },
  "language_info": {
   "codemirror_mode": {
    "name": "ipython",
    "version": 3
   },
   "file_extension": ".py",
   "mimetype": "text/x-python",
   "name": "python",
   "nbconvert_exporter": "python",
   "pygments_lexer": "ipython3",
   "version": "3.5.2"
  }
 },
 "nbformat": 4,
 "nbformat_minor": 2
}
