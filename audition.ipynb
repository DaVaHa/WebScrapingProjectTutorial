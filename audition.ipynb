{
 "cells": [
  {
   "cell_type": "markdown",
   "metadata": {
    "collapsed": true
   },
   "source": [
    "Welcome to your DataCamp Project audition! This notebook must be filled out and vetted before a contract can be signed and you can start creating your Project.\n",
    "\n",
    "The first step is forking the repository in which this notebook lives. After that, there are three parts to be completed in this notebook:\n",
    "\n",
    "- **Project information**:  The title of the Project, a Project description, etc.\n",
    "\n",
    "- **Project introduction**: The three first text and code cells that will form the introduction of your Project.\n",
    "\n",
    "- **Rough draft of code for rest of Project:** a rough draft of the remaining code for the rest of your Project (no accompanying text cells required).\n",
    "\n",
    "When complete, please email the link to your forked repo to projects@datacamp.com with the email subject line _DataCamp Project audition_. If you have any questions, please reach out to projects@datacamp.com."
   ]
  },
  {
   "cell_type": "markdown",
   "metadata": {},
   "source": [
    "# Project information"
   ]
  },
  {
   "cell_type": "markdown",
   "metadata": {},
   "source": [
    "**Project title**: Do more expensive wines taste better?\n",
    "\n",
    "**Name:** Daniel Van Hasselt\n",
    "\n",
    "**Email address associated with your DataCamp account:** danielvanhasselt@hotmail.com\n",
    "\n",
    "**Project description**: \n",
    "\n",
    "Did you know there exists an organization dedicated to *wine economics*? They are called the [American Association of Wine Economists](https://www.wine-economics.org) and yes, they even publish papers! A decade ago, they published the interesting paper titled \"[Do More Expensive Wines Taste Better?](http://www.wine-economics.org/aawe/wp-content/uploads/2012/10/AAWE_WP16.pdf)\". With the use of blind tastings, they discovered that the correlation between price and rating is actually *negative*. This means it doesn't make sense for the average individual to pay more for wine! Surprising, right? However, they did find a positive correlation between price and rating for trained wine experts. In this project, you will find out if you can reproduce this positive relationship and along the way, discover the maximum price you should pay for a bottle of wine!\n",
    "\n",
    "This Project will let you apply the knowledge gained from the [Web Scraping in Python](https://www.datacamp.com/courses/web-scraping-with-python) course. This required course will introduce you to the basic HTML structure of webpages, the XPath notation and the Python webscraping library scrapy. You should also be familiar with Python and pandas DataFrames, which you can learn in these courses:\n",
    "\n",
    "- [pandas foundation](https://www.datacamp.com/courses/pandas-foundations)\n",
    "- [Manipulating DataFrames with pandas](https://www.datacamp.com/courses/manipulating-dataframes-with-pandas)\n",
    "\n",
    "\n",
    "The data used in this Project will be scraped from the website of [Wine Enthusiast](https://www.winemag.com).\n",
    "\n"
   ]
  },
  {
   "cell_type": "markdown",
   "metadata": {},
   "source": [
    "# Project introduction\n",
    "\n",
    "***Note: nothing needs to be filled out in this cell. It is simply setting up the template cells below.***\n",
    "\n",
    "The final output of a DataCamp Project looks like a blog post: pairs of text and code cells that tell a story about data. The text is written from the perspective of the data analyst and *not* from the perspective of an instructor on DataCamp. So, for this blog post intro, all you need to do is pretend like you're writing a blog post -- forget the part about instructors and students.\n",
    "\n",
    "Below you'll see the structure of a DataCamp Project: a series of \"tasks\" where each task consists of a title, a **single** text cell, and a **single** code cell. There are 8-12 tasks in a Project and each task can have up to 10 lines of code. What you need to do:\n",
    "1. Read through the template structure.\n",
    "2. As best you can, divide your Project as it is currently visualized in your mind into tasks.\n",
    "3. Fill out the template structure for the first three tasks of your Project.\n",
    "\n",
    "As you are completing each task, you may wish to consult the Project notebook format in our [documentation](https://instructor-support.datacamp.com/projects/datacamp-projects-jupyter-notebook). Only the `@context` and `@solution` cells are relevant to this audition."
   ]
  },
  {
   "cell_type": "markdown",
   "metadata": {},
   "source": [
    "## 1. Creating our Spider"
   ]
  },
  {
   "cell_type": "markdown",
   "metadata": {},
   "source": [
    "A decade ago, the [American Association of Wine Economists](https://www.wine-economics.org) published a paper titled \"[Do More Expensive Wines Taste Better?](http://www.wine-economics.org/aawe/wp-content/uploads/2012/10/AAWE_WP16.pdf)\". With the use of blind tastings, they found a *negative* relationship between the price and overall rating of wine. However, they found a positive correlation between price and rating for trained wine experts. In this project, we will try to replicate this positive relationship. We will also try to find out if there is some optimal price point, after which price increases do not lead to increases in rating anymore (as reviewed by the experts). Yes, our goal is to become *data driven* wine buyers!\n",
    "\n",
    "We will scrape the data from the web, more specifically from the [Wine Enthusiast website](https://www.winemag.com). As we will see, the Python ecosystem has fantastic libraries that handle most of the complexity of webscraping. In this project, we will use the scrapy library, so let's get started by first creating our Spider object!\n",
    "\n",
    "The structure of our scrapy Spider class is shown below. Don't worry about all the class methods, we wil tackle them one by one!\n"
   ]
  },
  {
   "cell_type": "code",
   "execution_count": 1,
   "metadata": {},
   "outputs": [],
   "source": [
    "# Import Scrapy\n",
    "import scrapy\n",
    "\n",
    "# Create Spider object\n",
    "class WineMag(scrapy.Spider):\n",
    "    \n",
    "    # Name Spider\n",
    "    name = \"winemag\"\n",
    "    \n",
    "    # Required start_requests method (step 2.)\n",
    "    def start_requests(self):\n",
    "        pass\n",
    "    \n",
    "    # Method to parse overview page (step 3.)\n",
    "    def parse_overview(self, response):\n",
    "        pass\n",
    "    \n",
    "    # Method to parse details page (step 4.)\n",
    "    def parse_detail(self, response):\n",
    "        pass\n",
    "\n"
   ]
  },
  {
   "cell_type": "markdown",
   "metadata": {},
   "source": [
    "## 2. Define the list of URLs"
   ]
  },
  {
   "cell_type": "markdown",
   "metadata": {},
   "source": [
    "After creating the spider object, we will have to define a list of the webpages that hold our desired data. The URL which contains the overview of the most recent wine ratings is the following, for example: \"https://www.winemag.com/?s=&drink_type=wine&pub_date_web=2019&page=1\".\n",
    "We will define this list of URLs in the method *start_requests*, which is a required method for a scrapy Spider object. Let's say we would like 1000 ratings for each of the last 5 years. With 20 ratings per page, this means we should scrape the first 50 pages.\n"
   ]
  },
  {
   "cell_type": "code",
   "execution_count": 2,
   "metadata": {},
   "outputs": [],
   "source": [
    "# Define required start_requests method\n",
    "def start_requests(self):\n",
    "    \n",
    "    # URL without page number\n",
    "    base_url = \"https://www.winemag.com/?s=&drink_type=wine&pub_date_web={}&page=\"\n",
    "    \n",
    "    # list of URLs by year : 2015 - 2019\n",
    "    urls = [base_url.format(str(2019-i)) for i in range(5)]\n",
    "    \n",
    "    # Loop over URLs\n",
    "    for url in urls:\n",
    "        # Scrape first 50 pages per year\n",
    "        for i in range(1,51):\n",
    "            # Yield URL in Scrapy Request method\n",
    "            yield scrapy.Request( url = url + str(i), callback = self.parse_overview)\n",
    "\n",
    "            \n",
    "# Define parse_overview method (next step)\n",
    "def parse_overview(self, response):\n",
    "    pass\n",
    "    \n"
   ]
  },
  {
   "cell_type": "markdown",
   "metadata": {},
   "source": [
    "## 3. Investigate the source"
   ]
  },
  {
   "cell_type": "markdown",
   "metadata": {},
   "source": [
    "The next step is to find the exact HTML elements (and their classes!) which hold our desired data. We can inspect the source of a webpage by using the keyboard combination \"CTRL+U\" or by choosing the option \"Page source\" from the right mouse click menu. As we can see, the overview pages contain the most basic data: the name, price and rating of each wine. We will extract the text from the relevant HTML elements by defining a *parse_overview* method. As we would also like more detailed information, we will *follow* the link of every review. For extracting the data, we will use the XPath notation.\n"
   ]
  },
  {
   "cell_type": "code",
   "execution_count": 3,
   "metadata": {},
   "outputs": [],
   "source": [
    "# Define parse_overview method\n",
    "def parse_overview(self, response):\n",
    "\n",
    "    # Get all wines from overview page\n",
    "    wines = response.xpath('//li[@class=\"review-item\"]')\n",
    "    \n",
    "    # Extract name of wine\n",
    "    name = wines.xpath('.//div[@class=\"title\"]/text()').extract()\n",
    "    \n",
    "    # Extract rating\n",
    "    ratings = wines.xpath('.//div[@class=\"info\"]/span[@class=\"rating\"]//text()').extract()\n",
    "    \n",
    "    # Remove string 'Points' so list only contains rating values\n",
    "    rating = [r for r in ratings if 'POINTS' not in r.upper()]\n",
    "    \n",
    "    # Extract price\n",
    "    price = wines.xpath('.//span[@class=\"price\"]/text()').extract()\n",
    "    \n",
    "    # Extract link to details page\n",
    "    links = wines.xpath('./a[@class=\"review-listing\"]/@href').extract()\n",
    "    \n",
    "    # Follow URL for details\n",
    "    for link in links:\n",
    "        yield response.follow(url = link, callback = self.parse_detail)\n",
    "\n",
    "        "
   ]
  },
  {
   "cell_type": "markdown",
   "metadata": {},
   "source": [
    "## 4. Get down to the details"
   ]
  },
  {
   "cell_type": "markdown",
   "metadata": {},
   "source": [
    "Now, we have to define the *parse_detail* method that we used to follow the links in the previous step. We would also like to know the alcohol percentage, the color of the wine, the review date and the editor of each wine review. This step is a bit more tricky, as the HTML elements holding this information (except editor) are not defined by seperate classes, as on the overview page. We will use some Python dictionary tricks to extract the information we want.\n"
   ]
  },
  {
   "cell_type": "code",
   "execution_count": 4,
   "metadata": {},
   "outputs": [],
   "source": [
    "# Define parse_overview method\n",
    "def parse_detail(self, response):\n",
    "    \n",
    "    # Get URL of response object\n",
    "    url = response.url\n",
    "    \n",
    "    # Extract detail info\n",
    "    details = response.xpath('//ul[@class=\"secondary-info\"]')\n",
    "    \n",
    "    # Extract labels and values\n",
    "    labels = details.xpath('.//div[@class=\"info-label small-7 columns\"]//text()')\n",
    "    values = details.xpath('.//div[@class=\"info small-9 columns\"]//text()')\n",
    "    \n",
    "    # Zip labels and values\n",
    "    data = dict(zip([l.extract().strip() for l in labels],[v.extract().strip() for v in values]))\n",
    "\n",
    "    # Extract alcohol, colour and review date\n",
    "    alcohol = data[\"Alcohol\"]\n",
    "    color = data[\"Category\"]\n",
    "    date = data[\"Date Published\"]\n",
    "    \n",
    "    # Extract editor\n",
    "    editor = response.xpath('//div[@class=\"name\"]/text()').extract()[0].strip()\n",
    "    \n",
    "    "
   ]
  },
  {
   "cell_type": "markdown",
   "metadata": {},
   "source": [
    "## 5. Extract the information to csv files"
   ]
  },
  {
   "cell_type": "markdown",
   "metadata": {},
   "source": [
    "In the steps before, we defined the methods that will extract our desired data. Now we have make sure we save the extracted data. We will export the results of both parse methods to CSV files. By saving the URL of each wine review in both exports, we will have a common key on which to join both datasets in a later step. We will have to define these final steps in the respective methods. Note that the overview page contains 20 reviews per page, but the detail page does not! "
   ]
  },
  {
   "cell_type": "code",
   "execution_count": 5,
   "metadata": {},
   "outputs": [],
   "source": [
    "# parse_overview method\n",
    "def parse_overview(self, response):\n",
    "    \n",
    "    # Extraction part (done in step 3.)\n",
    "    # ...\n",
    "    \n",
    "    # Name export file of overview data : overview.csv \n",
    "    file = 'datasets/overview.csv'\n",
    "    \n",
    "    # Open file as 'append' (= adds to file without deleting previous stored data) \n",
    "    with open(file, 'a') as f: \n",
    "        # Loop over each review\n",
    "        for i in range(len(wines)):\n",
    "            # Write each review to file\n",
    "            f.writelines( [hrefs[i] + '|' + name[i] + '|' + rating[i] + '|' + price[i] + '|' + '\\n'] )\n",
    "\n",
    "            \n",
    "# parse_detail method\n",
    "def parse_detail(self, response):\n",
    "    \n",
    "    # Extraction part (done in step 4.)\n",
    "    # ...\n",
    "    \n",
    "    # Name export file of details data : details.csv \n",
    "    file = 'datasets/details.csv'\n",
    "    \n",
    "    # Open file as 'append' (= adds to file without deleting previous stored data) \n",
    "    with open(file, 'a') as f:\n",
    "        # Write to CSV file\n",
    "        f.writelines( [url + '|' + alcohol + '|' + color + '|' + date + '|' + editor + '\\n'] )\n",
    "        \n"
   ]
  },
  {
   "cell_type": "markdown",
   "metadata": {},
   "source": [
    "## 6. Crawl spider, crawl!"
   ]
  },
  {
   "cell_type": "markdown",
   "metadata": {},
   "source": [
    "Alright! We defined the full spider class object. We made sure we exported the extracted data to CSV files. So, now, it is time to make our Spider crawling the web! We first have to import the scrapy *CrawlerProcess*. After instantiating this object, we have to tell it which spider to use for crawling and let it run!"
   ]
  },
  {
   "cell_type": "code",
   "execution_count": 6,
   "metadata": {},
   "outputs": [
    {
     "name": "stderr",
     "output_type": "stream",
     "text": [
      ":0: UserWarning: You do not have a working installation of the service_identity module: 'cannot import name 'opentype''.  Please install it from <https://pypi.python.org/pypi/service_identity> and make sure all of its dependencies are satisfied.  Without the service_identity module, Twisted can perform only rudimentary TLS client hostname verification.  Many valid certificate/hostname mappings may be rejected.\n",
      "2019-04-08 23:23:08 [scrapy.utils.log] INFO: Scrapy 1.5.0 started (bot: scrapybot)\n",
      "2019-04-08 23:23:08 [scrapy.utils.log] INFO: Versions: lxml 3.5.0.0, libxml2 2.9.3, cssselect 1.0.3, parsel 1.4.0, w3lib 1.19.0, Twisted 18.4.0, Python 3.5.2 (default, Nov 12 2018, 13:43:14) - [GCC 5.4.0 20160609], pyOpenSSL 17.5.0 (OpenSSL 1.1.0g  2 Nov 2017), cryptography 2.1.4, Platform Linux-4.15.0-47-generic-x86_64-with-Ubuntu-16.04-xenial\n",
      "2019-04-08 23:23:08 [scrapy.crawler] INFO: Overridden settings: {}\n",
      "2019-04-08 23:23:09 [scrapy.middleware] INFO: Enabled extensions:\n",
      "['scrapy.extensions.logstats.LogStats',\n",
      " 'scrapy.extensions.corestats.CoreStats',\n",
      " 'scrapy.extensions.memusage.MemoryUsage',\n",
      " 'scrapy.extensions.telnet.TelnetConsole']\n",
      "2019-04-08 23:23:09 [scrapy.middleware] INFO: Enabled downloader middlewares:\n",
      "['scrapy.downloadermiddlewares.httpauth.HttpAuthMiddleware',\n",
      " 'scrapy.downloadermiddlewares.downloadtimeout.DownloadTimeoutMiddleware',\n",
      " 'scrapy.downloadermiddlewares.defaultheaders.DefaultHeadersMiddleware',\n",
      " 'scrapy.downloadermiddlewares.useragent.UserAgentMiddleware',\n",
      " 'scrapy.downloadermiddlewares.retry.RetryMiddleware',\n",
      " 'scrapy.downloadermiddlewares.redirect.MetaRefreshMiddleware',\n",
      " 'scrapy.downloadermiddlewares.httpcompression.HttpCompressionMiddleware',\n",
      " 'scrapy.downloadermiddlewares.redirect.RedirectMiddleware',\n",
      " 'scrapy.downloadermiddlewares.cookies.CookiesMiddleware',\n",
      " 'scrapy.downloadermiddlewares.httpproxy.HttpProxyMiddleware',\n",
      " 'scrapy.downloadermiddlewares.stats.DownloaderStats']\n",
      "2019-04-08 23:23:09 [scrapy.middleware] INFO: Enabled spider middlewares:\n",
      "['scrapy.spidermiddlewares.httperror.HttpErrorMiddleware',\n",
      " 'scrapy.spidermiddlewares.offsite.OffsiteMiddleware',\n",
      " 'scrapy.spidermiddlewares.referer.RefererMiddleware',\n",
      " 'scrapy.spidermiddlewares.urllength.UrlLengthMiddleware',\n",
      " 'scrapy.spidermiddlewares.depth.DepthMiddleware']\n",
      "2019-04-08 23:23:09 [scrapy.middleware] INFO: Enabled item pipelines:\n",
      "[]\n",
      "Unhandled error in Deferred:\n",
      "2019-04-08 23:23:09 [twisted] CRITICAL: Unhandled error in Deferred:\n",
      "\n",
      "2019-04-08 23:23:09 [twisted] CRITICAL: \n",
      "Traceback (most recent call last):\n",
      "  File \"/usr/local/lib/python3.5/dist-packages/twisted/internet/defer.py\", line 1386, in _inlineCallbacks\n",
      "    result = g.send(result)\n",
      "  File \"/usr/local/lib/python3.5/dist-packages/scrapy/crawler.py\", line 81, in crawl\n",
      "    start_requests = iter(self.spider.start_requests())\n",
      "TypeError: 'NoneType' object is not iterable\n"
     ]
    }
   ],
   "source": [
    "# Import CrawlerProcess\n",
    "from scrapy.crawler import CrawlerProcess\n",
    "\n",
    "# Instantiate CrawlerProcess\n",
    "process = CrawlerProcess()\n",
    "\n",
    "# Provide Spider as argument\n",
    "process.crawl(WineMag)\n",
    "\n",
    "# Run crawler\n",
    "process.start()\n"
   ]
  },
  {
   "cell_type": "markdown",
   "metadata": {},
   "source": [
    "## 7. Combine data into DataFrame"
   ]
  },
  {
   "cell_type": "markdown",
   "metadata": {},
   "source": [
    "Great, the spider did its work! We have the overview and the details data in seperate CSV files. Now, we will join both datasets together on their common key: the URL! We will use pandas to create DataFrames of each dataset and join them together!"
   ]
  },
  {
   "cell_type": "code",
   "execution_count": 7,
   "metadata": {},
   "outputs": [
    {
     "data": {
      "text/html": [
       "<div>\n",
       "<style scoped>\n",
       "    .dataframe tbody tr th:only-of-type {\n",
       "        vertical-align: middle;\n",
       "    }\n",
       "\n",
       "    .dataframe tbody tr th {\n",
       "        vertical-align: top;\n",
       "    }\n",
       "\n",
       "    .dataframe thead th {\n",
       "        text-align: right;\n",
       "    }\n",
       "</style>\n",
       "<table border=\"1\" class=\"dataframe\">\n",
       "  <thead>\n",
       "    <tr style=\"text-align: right;\">\n",
       "      <th></th>\n",
       "      <th>URL</th>\n",
       "      <th>Name</th>\n",
       "      <th>Rating</th>\n",
       "      <th>Price</th>\n",
       "      <th>Alcohol</th>\n",
       "      <th>Color</th>\n",
       "      <th>RatingDate</th>\n",
       "      <th>Editor</th>\n",
       "    </tr>\n",
       "  </thead>\n",
       "  <tbody>\n",
       "    <tr>\n",
       "      <th>0</th>\n",
       "      <td>https://www.winemag.com/buying-guide/100-perce...</td>\n",
       "      <td>100 Percent Wine 2012 All Profits to Charity R...</td>\n",
       "      <td>89.0</td>\n",
       "      <td>$18</td>\n",
       "      <td>13.8%</td>\n",
       "      <td>Red</td>\n",
       "      <td>12/31/2016</td>\n",
       "      <td>Jim Gordon</td>\n",
       "    </tr>\n",
       "    <tr>\n",
       "      <th>1</th>\n",
       "      <td>https://www.winemag.com/buying-guide/100-perce...</td>\n",
       "      <td>100 Percent Wine 2014 All Profits to Charity S...</td>\n",
       "      <td>84.0</td>\n",
       "      <td>$18</td>\n",
       "      <td>13.5%</td>\n",
       "      <td>White</td>\n",
       "      <td>12/31/2016</td>\n",
       "      <td>Jim Gordon</td>\n",
       "    </tr>\n",
       "    <tr>\n",
       "      <th>2</th>\n",
       "      <td>https://www.winemag.com/buying-guide/100-perce...</td>\n",
       "      <td>100 Percent Wine 2015 Moscato (California)</td>\n",
       "      <td>86.0</td>\n",
       "      <td>$18</td>\n",
       "      <td>12.2%</td>\n",
       "      <td>White</td>\n",
       "      <td>2/1/2017</td>\n",
       "      <td>Jim Gordon</td>\n",
       "    </tr>\n",
       "    <tr>\n",
       "      <th>3</th>\n",
       "      <td>https://www.winemag.com/buying-guide/1000-stor...</td>\n",
       "      <td>1000 Stories 2013 Bourbon Barrel Aged Zinfande...</td>\n",
       "      <td>91.0</td>\n",
       "      <td>$19</td>\n",
       "      <td>15.2%</td>\n",
       "      <td>Red</td>\n",
       "      <td>3/1/2016</td>\n",
       "      <td>Jim Gordon</td>\n",
       "    </tr>\n",
       "    <tr>\n",
       "      <th>4</th>\n",
       "      <td>https://www.winemag.com/buying-guide/1000-stor...</td>\n",
       "      <td>1000 Stories 2013 Bourbon Barrel Aged Zinfande...</td>\n",
       "      <td>91.0</td>\n",
       "      <td>$19</td>\n",
       "      <td>15.2%</td>\n",
       "      <td>Red</td>\n",
       "      <td>3/1/2016</td>\n",
       "      <td>Jim Gordon</td>\n",
       "    </tr>\n",
       "    <tr>\n",
       "      <th>5</th>\n",
       "      <td>https://www.winemag.com/buying-guide/1000-stor...</td>\n",
       "      <td>1000 Stories 2014 Bourbon Barrel Aged Batch No...</td>\n",
       "      <td>90.0</td>\n",
       "      <td>$19</td>\n",
       "      <td>15.6%</td>\n",
       "      <td>Red</td>\n",
       "      <td>7/1/2017</td>\n",
       "      <td>Jim Gordon</td>\n",
       "    </tr>\n",
       "    <tr>\n",
       "      <th>6</th>\n",
       "      <td>https://www.winemag.com/buying-guide/10span-20...</td>\n",
       "      <td>10Span 2012 Chardonnay (Santa Barbara County)</td>\n",
       "      <td>85.0</td>\n",
       "      <td>$8</td>\n",
       "      <td>13.5%</td>\n",
       "      <td>White</td>\n",
       "      <td>6/1/2015</td>\n",
       "      <td>Matt Kettmann</td>\n",
       "    </tr>\n",
       "    <tr>\n",
       "      <th>7</th>\n",
       "      <td>https://www.winemag.com/buying-guide/10span-20...</td>\n",
       "      <td>10Span 2013 Pinot Noir (Central Coast)</td>\n",
       "      <td>83.0</td>\n",
       "      <td>$7</td>\n",
       "      <td>13.5%</td>\n",
       "      <td>Red</td>\n",
       "      <td>7/1/2015</td>\n",
       "      <td>Matt Kettmann</td>\n",
       "    </tr>\n",
       "    <tr>\n",
       "      <th>8</th>\n",
       "      <td>https://www.winemag.com/buying-guide/113-nv-br...</td>\n",
       "      <td>1+1=3 NV Brut Sparkling (Cava)</td>\n",
       "      <td>87.0</td>\n",
       "      <td>$16</td>\n",
       "      <td>11.5%</td>\n",
       "      <td>Sparkling</td>\n",
       "      <td>11/1/2015</td>\n",
       "      <td>Michael Schachner</td>\n",
       "    </tr>\n",
       "    <tr>\n",
       "      <th>9</th>\n",
       "      <td>https://www.winemag.com/buying-guide/113-nv-br...</td>\n",
       "      <td>1+1=3 NV Brut Sparkling (Cava)</td>\n",
       "      <td>87.0</td>\n",
       "      <td>$16</td>\n",
       "      <td>11.5%</td>\n",
       "      <td>Sparkling</td>\n",
       "      <td>11/1/2016</td>\n",
       "      <td>Michael Schachner</td>\n",
       "    </tr>\n",
       "  </tbody>\n",
       "</table>\n",
       "</div>"
      ],
      "text/plain": [
       "                                                 URL  \\\n",
       "0  https://www.winemag.com/buying-guide/100-perce...   \n",
       "1  https://www.winemag.com/buying-guide/100-perce...   \n",
       "2  https://www.winemag.com/buying-guide/100-perce...   \n",
       "3  https://www.winemag.com/buying-guide/1000-stor...   \n",
       "4  https://www.winemag.com/buying-guide/1000-stor...   \n",
       "5  https://www.winemag.com/buying-guide/1000-stor...   \n",
       "6  https://www.winemag.com/buying-guide/10span-20...   \n",
       "7  https://www.winemag.com/buying-guide/10span-20...   \n",
       "8  https://www.winemag.com/buying-guide/113-nv-br...   \n",
       "9  https://www.winemag.com/buying-guide/113-nv-br...   \n",
       "\n",
       "                                                Name  Rating Price Alcohol  \\\n",
       "0  100 Percent Wine 2012 All Profits to Charity R...    89.0   $18   13.8%   \n",
       "1  100 Percent Wine 2014 All Profits to Charity S...    84.0   $18   13.5%   \n",
       "2         100 Percent Wine 2015 Moscato (California)    86.0   $18   12.2%   \n",
       "3  1000 Stories 2013 Bourbon Barrel Aged Zinfande...    91.0   $19   15.2%   \n",
       "4  1000 Stories 2013 Bourbon Barrel Aged Zinfande...    91.0   $19   15.2%   \n",
       "5  1000 Stories 2014 Bourbon Barrel Aged Batch No...    90.0   $19   15.6%   \n",
       "6      10Span 2012 Chardonnay (Santa Barbara County)    85.0    $8   13.5%   \n",
       "7             10Span 2013 Pinot Noir (Central Coast)    83.0    $7   13.5%   \n",
       "8                     1+1=3 NV Brut Sparkling (Cava)    87.0   $16   11.5%   \n",
       "9                     1+1=3 NV Brut Sparkling (Cava)    87.0   $16   11.5%   \n",
       "\n",
       "       Color  RatingDate             Editor  \n",
       "0        Red  12/31/2016         Jim Gordon  \n",
       "1      White  12/31/2016         Jim Gordon  \n",
       "2      White    2/1/2017         Jim Gordon  \n",
       "3        Red    3/1/2016         Jim Gordon  \n",
       "4        Red    3/1/2016         Jim Gordon  \n",
       "5        Red    7/1/2017         Jim Gordon  \n",
       "6      White    6/1/2015      Matt Kettmann  \n",
       "7        Red    7/1/2015      Matt Kettmann  \n",
       "8  Sparkling   11/1/2015  Michael Schachner  \n",
       "9  Sparkling   11/1/2016  Michael Schachner  "
      ]
     },
     "execution_count": 7,
     "metadata": {},
     "output_type": "execute_result"
    }
   ],
   "source": [
    "# Import pandas\n",
    "import pandas as pd\n",
    "\n",
    "# Create DataFrame of overview file\n",
    "overview = pd.read_csv('datasets/overview.csv')\n",
    "# Set column names \n",
    "overview.columns= ['URL','Name','Rating', 'Price']\n",
    "# Set URL as index\n",
    "overview.set_index('URL', inplace=True)\n",
    "\n",
    "# Create DataFrame of details file\n",
    "details = pd.read_csv('datasets/details.csv')\n",
    "# Set column names \n",
    "details.columns = ['URL', 'Alcohol', 'Color','RatingDate', 'Editor']\n",
    "# Set URL as index\n",
    "details.set_index('URL', inplace=True)\n",
    "\n",
    "# Join DataFrames\n",
    "winemag = overview.join(details, how='inner').reset_index()\n",
    "\n",
    "# Inspect result\n",
    "winemag.head(10)\n"
   ]
  },
  {
   "cell_type": "markdown",
   "metadata": {},
   "source": [
    "## 8. Deduplicate data"
   ]
  },
  {
   "cell_type": "markdown",
   "metadata": {},
   "source": [
    "By inspecting the first 10 rows of our dataset, we see that this dataset contains duplicates. We will deduplicate our data, as well as remove records with empty cells and the URL column."
   ]
  },
  {
   "cell_type": "code",
   "execution_count": 8,
   "metadata": {},
   "outputs": [
    {
     "name": "stdout",
     "output_type": "stream",
     "text": [
      "<class 'pandas.core.frame.DataFrame'>\n",
      "RangeIndex: 90192 entries, 0 to 90191\n",
      "Data columns (total 8 columns):\n",
      "URL           90192 non-null object\n",
      "Name          90192 non-null object\n",
      "Rating        90192 non-null float64\n",
      "Price         85276 non-null object\n",
      "Alcohol       87194 non-null object\n",
      "Color         90192 non-null object\n",
      "RatingDate    90192 non-null object\n",
      "Editor        90192 non-null object\n",
      "dtypes: float64(1), object(7)\n",
      "memory usage: 5.5+ MB\n",
      "None\n",
      "<class 'pandas.core.frame.DataFrame'>\n",
      "Int64Index: 79603 entries, 0 to 90191\n",
      "Data columns (total 7 columns):\n",
      "Name          79603 non-null object\n",
      "Rating        79603 non-null float64\n",
      "Price         79603 non-null object\n",
      "Alcohol       79603 non-null object\n",
      "Color         79603 non-null object\n",
      "RatingDate    79603 non-null object\n",
      "Editor        79603 non-null object\n",
      "dtypes: float64(1), object(6)\n",
      "memory usage: 4.9+ MB\n",
      "None\n"
     ]
    },
    {
     "data": {
      "text/html": [
       "<div>\n",
       "<style scoped>\n",
       "    .dataframe tbody tr th:only-of-type {\n",
       "        vertical-align: middle;\n",
       "    }\n",
       "\n",
       "    .dataframe tbody tr th {\n",
       "        vertical-align: top;\n",
       "    }\n",
       "\n",
       "    .dataframe thead th {\n",
       "        text-align: right;\n",
       "    }\n",
       "</style>\n",
       "<table border=\"1\" class=\"dataframe\">\n",
       "  <thead>\n",
       "    <tr style=\"text-align: right;\">\n",
       "      <th></th>\n",
       "      <th>Name</th>\n",
       "      <th>Rating</th>\n",
       "      <th>Price</th>\n",
       "      <th>Alcohol</th>\n",
       "      <th>Color</th>\n",
       "      <th>RatingDate</th>\n",
       "      <th>Editor</th>\n",
       "    </tr>\n",
       "  </thead>\n",
       "  <tbody>\n",
       "    <tr>\n",
       "      <th>0</th>\n",
       "      <td>100 Percent Wine 2012 All Profits to Charity R...</td>\n",
       "      <td>89.0</td>\n",
       "      <td>$18</td>\n",
       "      <td>13.8%</td>\n",
       "      <td>Red</td>\n",
       "      <td>12/31/2016</td>\n",
       "      <td>Jim Gordon</td>\n",
       "    </tr>\n",
       "    <tr>\n",
       "      <th>1</th>\n",
       "      <td>100 Percent Wine 2014 All Profits to Charity S...</td>\n",
       "      <td>84.0</td>\n",
       "      <td>$18</td>\n",
       "      <td>13.5%</td>\n",
       "      <td>White</td>\n",
       "      <td>12/31/2016</td>\n",
       "      <td>Jim Gordon</td>\n",
       "    </tr>\n",
       "    <tr>\n",
       "      <th>2</th>\n",
       "      <td>100 Percent Wine 2015 Moscato (California)</td>\n",
       "      <td>86.0</td>\n",
       "      <td>$18</td>\n",
       "      <td>12.2%</td>\n",
       "      <td>White</td>\n",
       "      <td>2/1/2017</td>\n",
       "      <td>Jim Gordon</td>\n",
       "    </tr>\n",
       "    <tr>\n",
       "      <th>3</th>\n",
       "      <td>1000 Stories 2013 Bourbon Barrel Aged Zinfande...</td>\n",
       "      <td>91.0</td>\n",
       "      <td>$19</td>\n",
       "      <td>15.2%</td>\n",
       "      <td>Red</td>\n",
       "      <td>3/1/2016</td>\n",
       "      <td>Jim Gordon</td>\n",
       "    </tr>\n",
       "    <tr>\n",
       "      <th>5</th>\n",
       "      <td>1000 Stories 2014 Bourbon Barrel Aged Batch No...</td>\n",
       "      <td>90.0</td>\n",
       "      <td>$19</td>\n",
       "      <td>15.6%</td>\n",
       "      <td>Red</td>\n",
       "      <td>7/1/2017</td>\n",
       "      <td>Jim Gordon</td>\n",
       "    </tr>\n",
       "    <tr>\n",
       "      <th>6</th>\n",
       "      <td>10Span 2012 Chardonnay (Santa Barbara County)</td>\n",
       "      <td>85.0</td>\n",
       "      <td>$8</td>\n",
       "      <td>13.5%</td>\n",
       "      <td>White</td>\n",
       "      <td>6/1/2015</td>\n",
       "      <td>Matt Kettmann</td>\n",
       "    </tr>\n",
       "    <tr>\n",
       "      <th>7</th>\n",
       "      <td>10Span 2013 Pinot Noir (Central Coast)</td>\n",
       "      <td>83.0</td>\n",
       "      <td>$7</td>\n",
       "      <td>13.5%</td>\n",
       "      <td>Red</td>\n",
       "      <td>7/1/2015</td>\n",
       "      <td>Matt Kettmann</td>\n",
       "    </tr>\n",
       "    <tr>\n",
       "      <th>8</th>\n",
       "      <td>1+1=3 NV Brut Sparkling (Cava)</td>\n",
       "      <td>87.0</td>\n",
       "      <td>$16</td>\n",
       "      <td>11.5%</td>\n",
       "      <td>Sparkling</td>\n",
       "      <td>11/1/2015</td>\n",
       "      <td>Michael Schachner</td>\n",
       "    </tr>\n",
       "    <tr>\n",
       "      <th>9</th>\n",
       "      <td>1+1=3 NV Brut Sparkling (Cava)</td>\n",
       "      <td>87.0</td>\n",
       "      <td>$16</td>\n",
       "      <td>11.5%</td>\n",
       "      <td>Sparkling</td>\n",
       "      <td>11/1/2016</td>\n",
       "      <td>Michael Schachner</td>\n",
       "    </tr>\n",
       "    <tr>\n",
       "      <th>10</th>\n",
       "      <td>1+1=3 NV Cygnus Brut Made With Organic Grapes ...</td>\n",
       "      <td>89.0</td>\n",
       "      <td>$18</td>\n",
       "      <td>11.5%</td>\n",
       "      <td>Sparkling</td>\n",
       "      <td>11/1/2017</td>\n",
       "      <td>Michael Schachner</td>\n",
       "    </tr>\n",
       "  </tbody>\n",
       "</table>\n",
       "</div>"
      ],
      "text/plain": [
       "                                                 Name  Rating Price Alcohol  \\\n",
       "0   100 Percent Wine 2012 All Profits to Charity R...    89.0   $18   13.8%   \n",
       "1   100 Percent Wine 2014 All Profits to Charity S...    84.0   $18   13.5%   \n",
       "2          100 Percent Wine 2015 Moscato (California)    86.0   $18   12.2%   \n",
       "3   1000 Stories 2013 Bourbon Barrel Aged Zinfande...    91.0   $19   15.2%   \n",
       "5   1000 Stories 2014 Bourbon Barrel Aged Batch No...    90.0   $19   15.6%   \n",
       "6       10Span 2012 Chardonnay (Santa Barbara County)    85.0    $8   13.5%   \n",
       "7              10Span 2013 Pinot Noir (Central Coast)    83.0    $7   13.5%   \n",
       "8                      1+1=3 NV Brut Sparkling (Cava)    87.0   $16   11.5%   \n",
       "9                      1+1=3 NV Brut Sparkling (Cava)    87.0   $16   11.5%   \n",
       "10  1+1=3 NV Cygnus Brut Made With Organic Grapes ...    89.0   $18   11.5%   \n",
       "\n",
       "        Color  RatingDate             Editor  \n",
       "0         Red  12/31/2016         Jim Gordon  \n",
       "1       White  12/31/2016         Jim Gordon  \n",
       "2       White    2/1/2017         Jim Gordon  \n",
       "3         Red    3/1/2016         Jim Gordon  \n",
       "5         Red    7/1/2017         Jim Gordon  \n",
       "6       White    6/1/2015      Matt Kettmann  \n",
       "7         Red    7/1/2015      Matt Kettmann  \n",
       "8   Sparkling   11/1/2015  Michael Schachner  \n",
       "9   Sparkling   11/1/2016  Michael Schachner  \n",
       "10  Sparkling   11/1/2017  Michael Schachner  "
      ]
     },
     "execution_count": 8,
     "metadata": {},
     "output_type": "execute_result"
    }
   ],
   "source": [
    "# Print info before deduplication\n",
    "print(winemag.info())\n",
    "\n",
    "# Remove duplicates from data\n",
    "winemag = winemag.drop_duplicates()\n",
    "\n",
    "# Remove records with empty cells\n",
    "winemag = winemag.dropna()\n",
    "\n",
    "# Remove URL\n",
    "winemag.drop('URL', axis=1, inplace=True)\n",
    "\n",
    "# Print info after deduplication\n",
    "print(winemag.info())\n",
    "\n",
    "winemag.head(10)\n"
   ]
  },
  {
   "cell_type": "markdown",
   "metadata": {},
   "source": [
    "## 9. Transform columns to numeric"
   ]
  },
  {
   "cell_type": "markdown",
   "metadata": {},
   "source": [
    "As we can see in the column data types, all columns have 'object' as datatype, with the exception of the Rating column. We will transform the RatingDate to a datetime data type. We will also transform the Price and Alcohol columns to a numeric data type, so we can do calculations with them in a later step."
   ]
  },
  {
   "cell_type": "code",
   "execution_count": 9,
   "metadata": {},
   "outputs": [
    {
     "data": {
      "text/html": [
       "<div>\n",
       "<style scoped>\n",
       "    .dataframe tbody tr th:only-of-type {\n",
       "        vertical-align: middle;\n",
       "    }\n",
       "\n",
       "    .dataframe tbody tr th {\n",
       "        vertical-align: top;\n",
       "    }\n",
       "\n",
       "    .dataframe thead th {\n",
       "        text-align: right;\n",
       "    }\n",
       "</style>\n",
       "<table border=\"1\" class=\"dataframe\">\n",
       "  <thead>\n",
       "    <tr style=\"text-align: right;\">\n",
       "      <th></th>\n",
       "      <th>Rating</th>\n",
       "      <th>Price</th>\n",
       "      <th>Alcohol</th>\n",
       "    </tr>\n",
       "  </thead>\n",
       "  <tbody>\n",
       "    <tr>\n",
       "      <th>count</th>\n",
       "      <td>79603.000000</td>\n",
       "      <td>79603.000000</td>\n",
       "      <td>79603.000000</td>\n",
       "    </tr>\n",
       "    <tr>\n",
       "      <th>mean</th>\n",
       "      <td>89.045714</td>\n",
       "      <td>37.709672</td>\n",
       "      <td>13.933454</td>\n",
       "    </tr>\n",
       "    <tr>\n",
       "      <th>std</th>\n",
       "      <td>2.885377</td>\n",
       "      <td>48.007982</td>\n",
       "      <td>38.641403</td>\n",
       "    </tr>\n",
       "    <tr>\n",
       "      <th>min</th>\n",
       "      <td>80.000000</td>\n",
       "      <td>4.000000</td>\n",
       "      <td>2.500000</td>\n",
       "    </tr>\n",
       "    <tr>\n",
       "      <th>25%</th>\n",
       "      <td>87.000000</td>\n",
       "      <td>18.000000</td>\n",
       "      <td>13.000000</td>\n",
       "    </tr>\n",
       "    <tr>\n",
       "      <th>50%</th>\n",
       "      <td>89.000000</td>\n",
       "      <td>28.000000</td>\n",
       "      <td>13.500000</td>\n",
       "    </tr>\n",
       "    <tr>\n",
       "      <th>75%</th>\n",
       "      <td>91.000000</td>\n",
       "      <td>45.000000</td>\n",
       "      <td>14.400000</td>\n",
       "    </tr>\n",
       "    <tr>\n",
       "      <th>max</th>\n",
       "      <td>100.000000</td>\n",
       "      <td>5000.000000</td>\n",
       "      <td>8333.000000</td>\n",
       "    </tr>\n",
       "  </tbody>\n",
       "</table>\n",
       "</div>"
      ],
      "text/plain": [
       "             Rating         Price       Alcohol\n",
       "count  79603.000000  79603.000000  79603.000000\n",
       "mean      89.045714     37.709672     13.933454\n",
       "std        2.885377     48.007982     38.641403\n",
       "min       80.000000      4.000000      2.500000\n",
       "25%       87.000000     18.000000     13.000000\n",
       "50%       89.000000     28.000000     13.500000\n",
       "75%       91.000000     45.000000     14.400000\n",
       "max      100.000000   5000.000000   8333.000000"
      ]
     },
     "execution_count": 9,
     "metadata": {},
     "output_type": "execute_result"
    }
   ],
   "source": [
    "# Transform RatingDate to datetime data type\n",
    "winemag[\"RatingDate\"] = pd.to_datetime(winemag[\"RatingDate\"], format='%m/%d/%Y')\n",
    "\n",
    "# Transform Price column to numeric data type\n",
    "winemag[\"Price\"] = winemag[\"Price\"].apply(lambda x : round(float(str(x).replace(\"$\",\"\")),0) )\n",
    "\n",
    "# Transform Alcohol column to numeric data type\n",
    "winemag[\"Alcohol\"] = winemag[\"Alcohol\"].apply(lambda x : round(float(str(x).replace(\"%\",\"\")),1) )\n",
    "\n",
    "# Inspect statistics of numeric columns\n",
    "winemag.describe()\n",
    "\n"
   ]
  },
  {
   "cell_type": "markdown",
   "metadata": {},
   "source": [
    "## 10. Clean data "
   ]
  },
  {
   "cell_type": "markdown",
   "metadata": {},
   "source": [
    "Whoa! Our data contains some wines with crazy alcohol percentages and prices! Let's remove the unrealistic Price and Alcohol values from our data. Suppose an alcohol percentage between 10% and 20% is acceptable and prices up until $100 are 'reasonable'."
   ]
  },
  {
   "cell_type": "code",
   "execution_count": 10,
   "metadata": {},
   "outputs": [
    {
     "data": {
      "text/html": [
       "<div>\n",
       "<style scoped>\n",
       "    .dataframe tbody tr th:only-of-type {\n",
       "        vertical-align: middle;\n",
       "    }\n",
       "\n",
       "    .dataframe tbody tr th {\n",
       "        vertical-align: top;\n",
       "    }\n",
       "\n",
       "    .dataframe thead th {\n",
       "        text-align: right;\n",
       "    }\n",
       "</style>\n",
       "<table border=\"1\" class=\"dataframe\">\n",
       "  <thead>\n",
       "    <tr style=\"text-align: right;\">\n",
       "      <th></th>\n",
       "      <th>Rating</th>\n",
       "      <th>Price</th>\n",
       "      <th>Alcohol</th>\n",
       "    </tr>\n",
       "  </thead>\n",
       "  <tbody>\n",
       "    <tr>\n",
       "      <th>count</th>\n",
       "      <td>76094.000000</td>\n",
       "      <td>76094.000000</td>\n",
       "      <td>76094.000000</td>\n",
       "    </tr>\n",
       "    <tr>\n",
       "      <th>mean</th>\n",
       "      <td>88.914382</td>\n",
       "      <td>32.954267</td>\n",
       "      <td>13.603029</td>\n",
       "    </tr>\n",
       "    <tr>\n",
       "      <th>std</th>\n",
       "      <td>2.802355</td>\n",
       "      <td>19.655821</td>\n",
       "      <td>1.042906</td>\n",
       "    </tr>\n",
       "    <tr>\n",
       "      <th>min</th>\n",
       "      <td>80.000000</td>\n",
       "      <td>4.000000</td>\n",
       "      <td>10.000000</td>\n",
       "    </tr>\n",
       "    <tr>\n",
       "      <th>25%</th>\n",
       "      <td>87.000000</td>\n",
       "      <td>18.000000</td>\n",
       "      <td>13.000000</td>\n",
       "    </tr>\n",
       "    <tr>\n",
       "      <th>50%</th>\n",
       "      <td>89.000000</td>\n",
       "      <td>27.000000</td>\n",
       "      <td>13.500000</td>\n",
       "    </tr>\n",
       "    <tr>\n",
       "      <th>75%</th>\n",
       "      <td>91.000000</td>\n",
       "      <td>44.000000</td>\n",
       "      <td>14.300000</td>\n",
       "    </tr>\n",
       "    <tr>\n",
       "      <th>max</th>\n",
       "      <td>100.000000</td>\n",
       "      <td>100.000000</td>\n",
       "      <td>20.000000</td>\n",
       "    </tr>\n",
       "  </tbody>\n",
       "</table>\n",
       "</div>"
      ],
      "text/plain": [
       "             Rating         Price       Alcohol\n",
       "count  76094.000000  76094.000000  76094.000000\n",
       "mean      88.914382     32.954267     13.603029\n",
       "std        2.802355     19.655821      1.042906\n",
       "min       80.000000      4.000000     10.000000\n",
       "25%       87.000000     18.000000     13.000000\n",
       "50%       89.000000     27.000000     13.500000\n",
       "75%       91.000000     44.000000     14.300000\n",
       "max      100.000000    100.000000     20.000000"
      ]
     },
     "execution_count": 10,
     "metadata": {},
     "output_type": "execute_result"
    }
   ],
   "source": [
    "# Keep Prices below $100\n",
    "winemag = winemag[winemag.Price <= 100]\n",
    "\n",
    "# Keep Alcohol percentages between 10% and 20%\n",
    "winemag = winemag[(winemag.Alcohol >= 10) & (winemag.Alcohol <= 20)]\n",
    "\n",
    "# Inspect statistics of data\n",
    "winemag.describe()\n",
    "\n"
   ]
  },
  {
   "cell_type": "markdown",
   "metadata": {},
   "source": [
    "## 11. Find the relationship & the optimal price!"
   ]
  },
  {
   "cell_type": "markdown",
   "metadata": {},
   "source": [
    "Finally! We extracted the data from the web, we combined the overview and the details of each wine review together and cleaned our dataset. Now, it is time to find out the relationship between price and rating for our wine experts! All we need are the Price and Rating columns, which we need to group by Price. How does the average rating behave when the price goes up?!"
   ]
  },
  {
   "cell_type": "code",
   "execution_count": 11,
   "metadata": {},
   "outputs": [
    {
     "name": "stdout",
     "output_type": "stream",
     "text": [
      "           Price    Rating\n",
      "Price   1.000000  0.541891\n",
      "Rating  0.541891  1.000000\n"
     ]
    },
    {
     "data": {
      "text/plain": [
       "<matplotlib.axes._subplots.AxesSubplot at 0x7fd5ea92afd0>"
      ]
     },
     "execution_count": 11,
     "metadata": {},
     "output_type": "execute_result"
    },
    {
     "data": {
      "image/png": "[encoded data removed]",
      "text/plain": [
       "<matplotlib.figure.Figure at 0x7fd5ea92a780>"
      ]
     },
     "metadata": {},
     "output_type": "display_data"
    }
   ],
   "source": [
    "# Import matplotlib\n",
    "import matplotlib.pyplot as plt\n",
    "\n",
    "# Show graphs in notebook\n",
    "%matplotlib inline\n",
    "\n",
    "# Print correlation\n",
    "print(winemag[[\"Price\",\"Rating\"]].corr())\n",
    "\n",
    "# Plot the average Rating by price\n",
    "winemag[[\"Price\",\"Rating\"]].groupby('Price').mean().plot()\n",
    "\n"
   ]
  },
  {
   "cell_type": "markdown",
   "metadata": {},
   "source": [
    "# 12. Conclusion"
   ]
  },
  {
   "cell_type": "markdown",
   "metadata": {},
   "source": [
    "We successfully replicated one of the findings from the original paper! For wine experts, there is indeed a *positive* correlation between price and rating! We also can see on the graph that the rating doesn't really increase anymore as soon we pay around 60 dollars a bottle. Thus, spending $100 for a bottle of wine will not bring us more enjoyment. Instead, two bottles for 50 dollars each seems the *data driven* way to maximize our enjoyment! ;)"
   ]
  },
  {
   "cell_type": "code",
   "execution_count": 12,
   "metadata": {},
   "outputs": [
    {
     "name": "stdout",
     "output_type": "stream",
     "text": [
      "For wine experts, we indeed find a positive relationship between price and rating!\n"
     ]
    }
   ],
   "source": [
    "# Conclusion\n",
    "positive_relationship = True\n",
    "\n",
    "# Print conclusion\n",
    "if positive_relationship:\n",
    "    print(\"For wine experts, we indeed find a positive relationship between price and rating!\")\n",
    "    "
   ]
  },
  {
   "cell_type": "markdown",
   "metadata": {},
   "source": [
    "# Other ideas"
   ]
  },
  {
   "cell_type": "code",
   "execution_count": 13,
   "metadata": {},
   "outputs": [
    {
     "data": {
      "text/html": [
       "<div>\n",
       "<style scoped>\n",
       "    .dataframe tbody tr th:only-of-type {\n",
       "        vertical-align: middle;\n",
       "    }\n",
       "\n",
       "    .dataframe tbody tr th {\n",
       "        vertical-align: top;\n",
       "    }\n",
       "\n",
       "    .dataframe thead th {\n",
       "        text-align: right;\n",
       "    }\n",
       "</style>\n",
       "<table border=\"1\" class=\"dataframe\">\n",
       "  <thead>\n",
       "    <tr style=\"text-align: right;\">\n",
       "      <th></th>\n",
       "      <th>Rating</th>\n",
       "    </tr>\n",
       "    <tr>\n",
       "      <th>Editor</th>\n",
       "      <th></th>\n",
       "    </tr>\n",
       "  </thead>\n",
       "  <tbody>\n",
       "    <tr>\n",
       "      <th>Fiona Adams</th>\n",
       "      <td>86.430303</td>\n",
       "    </tr>\n",
       "    <tr>\n",
       "      <th>Alexander Peartree</th>\n",
       "      <td>86.608200</td>\n",
       "    </tr>\n",
       "    <tr>\n",
       "      <th>Carrie Dykes</th>\n",
       "      <td>86.789091</td>\n",
       "    </tr>\n",
       "    <tr>\n",
       "      <th>Michael Schachner</th>\n",
       "      <td>87.133059</td>\n",
       "    </tr>\n",
       "    <tr>\n",
       "      <th>Lauren Buzzeo</th>\n",
       "      <td>87.667447</td>\n",
       "    </tr>\n",
       "    <tr>\n",
       "      <th>Jeff Jenssen</th>\n",
       "      <td>88.235294</td>\n",
       "    </tr>\n",
       "    <tr>\n",
       "      <th>Roger Voss</th>\n",
       "      <td>88.502912</td>\n",
       "    </tr>\n",
       "    <tr>\n",
       "      <th>Christina Pickard</th>\n",
       "      <td>88.558266</td>\n",
       "    </tr>\n",
       "    <tr>\n",
       "      <th>Jim Gordon</th>\n",
       "      <td>88.612866</td>\n",
       "    </tr>\n",
       "    <tr>\n",
       "      <th>Susan Kostrzewa</th>\n",
       "      <td>88.703704</td>\n",
       "    </tr>\n",
       "    <tr>\n",
       "      <th>Sean P. Sullivan</th>\n",
       "      <td>88.707649</td>\n",
       "    </tr>\n",
       "    <tr>\n",
       "      <th>Kerin O’Keefe</th>\n",
       "      <td>89.022368</td>\n",
       "    </tr>\n",
       "    <tr>\n",
       "      <th>Anna Lee C. Iijima</th>\n",
       "      <td>89.091667</td>\n",
       "    </tr>\n",
       "    <tr>\n",
       "      <th>Mike DeSimone</th>\n",
       "      <td>89.200000</td>\n",
       "    </tr>\n",
       "    <tr>\n",
       "      <th>Joe Czerwinski</th>\n",
       "      <td>89.211041</td>\n",
       "    </tr>\n",
       "    <tr>\n",
       "      <th>Paul Gregutt</th>\n",
       "      <td>89.550873</td>\n",
       "    </tr>\n",
       "    <tr>\n",
       "      <th>Virginie Boone</th>\n",
       "      <td>89.664375</td>\n",
       "    </tr>\n",
       "    <tr>\n",
       "      <th>Matt Kettmann</th>\n",
       "      <td>90.023380</td>\n",
       "    </tr>\n",
       "    <tr>\n",
       "      <th>Anne Krebiehl MW</th>\n",
       "      <td>90.821670</td>\n",
       "    </tr>\n",
       "  </tbody>\n",
       "</table>\n",
       "</div>"
      ],
      "text/plain": [
       "                       Rating\n",
       "Editor                       \n",
       "Fiona Adams         86.430303\n",
       "Alexander Peartree  86.608200\n",
       "Carrie Dykes        86.789091\n",
       "Michael Schachner   87.133059\n",
       "Lauren Buzzeo       87.667447\n",
       "Jeff Jenssen        88.235294\n",
       "Roger Voss          88.502912\n",
       "Christina Pickard   88.558266\n",
       "Jim Gordon          88.612866\n",
       "Susan Kostrzewa     88.703704\n",
       "Sean P. Sullivan    88.707649\n",
       "Kerin O’Keefe       89.022368\n",
       "Anna Lee C. Iijima  89.091667\n",
       "Mike DeSimone       89.200000\n",
       "Joe Czerwinski      89.211041\n",
       "Paul Gregutt        89.550873\n",
       "Virginie Boone      89.664375\n",
       "Matt Kettmann       90.023380\n",
       "Anne Krebiehl MW    90.821670"
      ]
     },
     "execution_count": 13,
     "metadata": {},
     "output_type": "execute_result"
    }
   ],
   "source": [
    "# Differences in ratings by editor\n",
    "editors = winemag[['Rating','Editor']].groupby('Editor').mean()\n",
    "editors.sort_values('Rating')\n"
   ]
  },
  {
   "cell_type": "code",
   "execution_count": 14,
   "metadata": {},
   "outputs": [
    {
     "data": {
      "text/plain": [
       "<matplotlib.axes._subplots.AxesSubplot at 0x7fd5e88ae1d0>"
      ]
     },
     "execution_count": 14,
     "metadata": {},
     "output_type": "execute_result"
    },
    {
     "data": {
      "image/png": "[encoded data removed]",
      "text/plain": [
       "<matplotlib.figure.Figure at 0x7fd5e88ecb70>"
      ]
     },
     "metadata": {},
     "output_type": "display_data"
    }
   ],
   "source": [
    "# Rating over time\n",
    "winemag[['RatingDate','Rating']].groupby('RatingDate').mean().plot()\n"
   ]
  },
  {
   "cell_type": "code",
   "execution_count": 15,
   "metadata": {},
   "outputs": [
    {
     "data": {
      "text/html": [
       "<div>\n",
       "<style scoped>\n",
       "    .dataframe tbody tr th:only-of-type {\n",
       "        vertical-align: middle;\n",
       "    }\n",
       "\n",
       "    .dataframe tbody tr th {\n",
       "        vertical-align: top;\n",
       "    }\n",
       "\n",
       "    .dataframe thead th {\n",
       "        text-align: right;\n",
       "    }\n",
       "</style>\n",
       "<table border=\"1\" class=\"dataframe\">\n",
       "  <thead>\n",
       "    <tr style=\"text-align: right;\">\n",
       "      <th></th>\n",
       "      <th>Price</th>\n",
       "    </tr>\n",
       "    <tr>\n",
       "      <th>Rating</th>\n",
       "      <th></th>\n",
       "    </tr>\n",
       "  </thead>\n",
       "  <tbody>\n",
       "    <tr>\n",
       "      <th>100.0</th>\n",
       "      <td>79.75</td>\n",
       "    </tr>\n",
       "  </tbody>\n",
       "</table>\n",
       "</div>"
      ],
      "text/plain": [
       "        Price\n",
       "Rating       \n",
       "100.0   79.75"
      ]
     },
     "execution_count": 15,
     "metadata": {},
     "output_type": "execute_result"
    }
   ],
   "source": [
    "# Average price for a wine with a Rating of 100\n",
    "winemag[winemag.Rating == 100][[\"Price\",\"Rating\"]].groupby(\"Rating\").mean()\n"
   ]
  },
  {
   "cell_type": "code",
   "execution_count": 16,
   "metadata": {},
   "outputs": [
    {
     "data": {
      "text/plain": [
       "<matplotlib.axes._subplots.AxesSubplot at 0x7fd5e887dbe0>"
      ]
     },
     "execution_count": 16,
     "metadata": {},
     "output_type": "execute_result"
    },
    {
     "data": {
      "image/png": "[encoded data removed]",
      "text/plain": [
       "<matplotlib.figure.Figure at 0x7fd5e888b208>"
      ]
     },
     "metadata": {},
     "output_type": "display_data"
    }
   ],
   "source": [
    "# Create bins of $5 \n",
    "winemag[\"Bin\"] = winemag[\"Price\"].apply(lambda x : round(x/5,0)*5 )\n",
    "\n",
    "# Plot average rating by bin\n",
    "winemag[[\"Bin\",\"Rating\"]].groupby(\"Bin\").mean().plot()\n"
   ]
  },
  {
   "cell_type": "code",
   "execution_count": 17,
   "metadata": {},
   "outputs": [
    {
     "data": {
      "text/html": [
       "<div>\n",
       "<style scoped>\n",
       "    .dataframe tbody tr th:only-of-type {\n",
       "        vertical-align: middle;\n",
       "    }\n",
       "\n",
       "    .dataframe tbody tr th {\n",
       "        vertical-align: top;\n",
       "    }\n",
       "\n",
       "    .dataframe thead th {\n",
       "        text-align: right;\n",
       "    }\n",
       "</style>\n",
       "<table border=\"1\" class=\"dataframe\">\n",
       "  <thead>\n",
       "    <tr style=\"text-align: right;\">\n",
       "      <th></th>\n",
       "      <th>Price</th>\n",
       "      <th>Rating</th>\n",
       "    </tr>\n",
       "    <tr>\n",
       "      <th>Segment</th>\n",
       "      <th></th>\n",
       "      <th></th>\n",
       "    </tr>\n",
       "  </thead>\n",
       "  <tbody>\n",
       "    <tr>\n",
       "      <th>Classic</th>\n",
       "      <td>79.000000</td>\n",
       "      <td>98.428571</td>\n",
       "    </tr>\n",
       "    <tr>\n",
       "      <th>Superb</th>\n",
       "      <td>60.970844</td>\n",
       "      <td>94.443510</td>\n",
       "    </tr>\n",
       "    <tr>\n",
       "      <th>Excellent</th>\n",
       "      <td>41.154781</td>\n",
       "      <td>91.164749</td>\n",
       "    </tr>\n",
       "    <tr>\n",
       "      <th>Very good</th>\n",
       "      <td>27.568255</td>\n",
       "      <td>87.969204</td>\n",
       "    </tr>\n",
       "    <tr>\n",
       "      <th>Good</th>\n",
       "      <td>20.307554</td>\n",
       "      <td>85.112959</td>\n",
       "    </tr>\n",
       "    <tr>\n",
       "      <th>Acceptable</th>\n",
       "      <td>18.380717</td>\n",
       "      <td>81.515451</td>\n",
       "    </tr>\n",
       "  </tbody>\n",
       "</table>\n",
       "</div>"
      ],
      "text/plain": [
       "                Price     Rating\n",
       "Segment                         \n",
       "Classic     79.000000  98.428571\n",
       "Superb      60.970844  94.443510\n",
       "Excellent   41.154781  91.164749\n",
       "Very good   27.568255  87.969204\n",
       "Good        20.307554  85.112959\n",
       "Acceptable  18.380717  81.515451"
      ]
     },
     "execution_count": 17,
     "metadata": {},
     "output_type": "execute_result"
    }
   ],
   "source": [
    "# Price by class of rating\n",
    "def ClassifyRating(x):\n",
    "    \n",
    "    \"\"\"\n",
    "    98–100 Classic The pinnacle of quality.\n",
    "    94–97 Superb A great achievement.\n",
    "    90–93 Excellent Highly recommended.\n",
    "    87–89 Very Good Often good value; well recommended.\n",
    "    83–86 Good Suitable for everyday consumption; often good value.\n",
    "    80–82 Acceptable Can be employed in casual, less-critical circumstances.\n",
    "    \"\"\"\n",
    "    \n",
    "    if x >= 98:\n",
    "        return 'Classic'\n",
    "    elif x >= 94:\n",
    "        return 'Superb'\n",
    "    elif x >= 90:\n",
    "        return 'Excellent'\n",
    "    elif x >= 87:\n",
    "        return 'Very good'\n",
    "    elif x >= 83:\n",
    "        return 'Good'\n",
    "    elif x >= 80:\n",
    "        return 'Acceptable'\n",
    "    else:\n",
    "        return 'Unacceptable'\n",
    "\n",
    "# New columns\n",
    "winemag[\"Segment\"] = winemag[\"Rating\"].apply(ClassifyRating)\n",
    "    \n",
    "# Show average price by segment\n",
    "segments = winemag[[\"Segment\",\"Price\", \"Rating\"]].groupby(\"Segment\").mean()\n",
    "segments.sort_values(\"Rating\", ascending=False)\n"
   ]
  },
  {
   "cell_type": "code",
   "execution_count": 18,
   "metadata": {},
   "outputs": [
    {
     "data": {
      "text/plain": [
       "[<matplotlib.lines.Line2D at 0x7fd5e87be978>]"
      ]
     },
     "execution_count": 18,
     "metadata": {},
     "output_type": "execute_result"
    },
    {
     "data": {
      "image/png": "[encoded data removed]",
      "text/plain": [
       "<matplotlib.figure.Figure at 0x7fd5ec95fdd8>"
      ]
     },
     "metadata": {},
     "output_type": "display_data"
    }
   ],
   "source": [
    "# Plot rating by color\n",
    "plt.plot(winemag[winemag.Color == 'White'][[\"Price\",\"Rating\"]].groupby('Price').mean(), color='grey')\n",
    "plt.plot(winemag[winemag.Color == 'Red'  ][[\"Price\",\"Rating\"]].groupby('Price').mean(), color='red')\n",
    "plt.plot(winemag[winemag.Color == 'Rose' ][[\"Price\",\"Rating\"]].groupby('Price').mean(), color='pink')\n"
   ]
  },
  {
   "cell_type": "code",
   "execution_count": 19,
   "metadata": {},
   "outputs": [
    {
     "data": {
      "text/html": [
       "<div>\n",
       "<style scoped>\n",
       "    .dataframe tbody tr th:only-of-type {\n",
       "        vertical-align: middle;\n",
       "    }\n",
       "\n",
       "    .dataframe tbody tr th {\n",
       "        vertical-align: top;\n",
       "    }\n",
       "\n",
       "    .dataframe thead th {\n",
       "        text-align: right;\n",
       "    }\n",
       "</style>\n",
       "<table border=\"1\" class=\"dataframe\">\n",
       "  <thead>\n",
       "    <tr style=\"text-align: right;\">\n",
       "      <th></th>\n",
       "      <th>Rating</th>\n",
       "    </tr>\n",
       "    <tr>\n",
       "      <th>Color</th>\n",
       "      <th></th>\n",
       "    </tr>\n",
       "  </thead>\n",
       "  <tbody>\n",
       "    <tr>\n",
       "      <th>Port/Sherry</th>\n",
       "      <td>90.368902</td>\n",
       "    </tr>\n",
       "    <tr>\n",
       "      <th>Dessert</th>\n",
       "      <td>90.226891</td>\n",
       "    </tr>\n",
       "    <tr>\n",
       "      <th>Fortified</th>\n",
       "      <td>89.454545</td>\n",
       "    </tr>\n",
       "    <tr>\n",
       "      <th>Red</th>\n",
       "      <td>89.149695</td>\n",
       "    </tr>\n",
       "    <tr>\n",
       "      <th>Sparkling</th>\n",
       "      <td>88.962693</td>\n",
       "    </tr>\n",
       "    <tr>\n",
       "      <th>White</th>\n",
       "      <td>88.670905</td>\n",
       "    </tr>\n",
       "    <tr>\n",
       "      <th>Rose</th>\n",
       "      <td>87.232721</td>\n",
       "    </tr>\n",
       "  </tbody>\n",
       "</table>\n",
       "</div>"
      ],
      "text/plain": [
       "                Rating\n",
       "Color                 \n",
       "Port/Sherry  90.368902\n",
       "Dessert      90.226891\n",
       "Fortified    89.454545\n",
       "Red          89.149695\n",
       "Sparkling    88.962693\n",
       "White        88.670905\n",
       "Rose         87.232721"
      ]
     },
     "execution_count": 19,
     "metadata": {},
     "output_type": "execute_result"
    }
   ],
   "source": [
    "# Average rating by color\n",
    "winemag[[\"Rating\",\"Color\"]].groupby(\"Color\").mean().sort_values('Rating', ascending=False)\n"
   ]
  }
 ],
 "metadata": {
  "kernelspec": {
   "display_name": "Python 3",
   "language": "python",
   "name": "python3"
  },
  "language_info": {
   "codemirror_mode": {
    "name": "ipython",
    "version": 3
   },
   "file_extension": ".py",
   "mimetype": "text/x-python",
   "name": "python",
   "nbconvert_exporter": "python",
   "pygments_lexer": "ipython3",
   "version": "3.5.2"
  }
 },
 "nbformat": 4,
 "nbformat_minor": 2
}
